{
 "cells": [
  {
   "cell_type": "markdown",
   "metadata": {},
   "source": [
    "# Введение\n",
    "\n",
    "Данная заметка содержит теоритический материал на AUC-ROC кривых. Данный материал, в совокупности с другими материалами может быть полезен для осознания того, как устроен AUC-ROC. Целью создания данного ноутбука является более глубокое понимание автором данной метрики, а также создания задач, по итогам решения которых, возникало бы ощущение понимания и \"жанглирования\" данной метрикой.\n",
    "\n",
    "Следует отметить, что для эффективного усвоения материала, Вам потребуется в ряде случаев писать код. В других случаях Вам потребуется прорешивать задачи на листочке. И то, и другое важно. Одно не может быть заменено другим. Прорешивание задач на листочке важно для осознания мелких деталей метрики и усвоения техники. Написание кода поможет закрепить материал, а также убедиться, что Вы, действительно всё поняли и осознали. Если один из этих пунктов будет выброшен, то с высокой вероятностью, Вы достигнете меньших успехов в понимании данной метрики, чем могли бы.\n",
    "\n",
    "Ноутбук разделён на части. Сначал идёт теоритическая часть. Затем -- письменные задачи. После этого -- задачи на написание кода. Задачи на прорешку называются **Практика**. Задачи на написание кода называются **Алгоритмы**. Все исходники кода лежат рядом с ноутбуком и Вы можете к ним обратиться. Мы не можем этого запретить сделать. Но мы настоятельно не советуем этого делать до написания на 100% рабочего кода самим. Все исходники импортируются из библиотеки `core`. Всякий раз, когда мы будем говорить, что *код написан*, будет следовать импорт этого модуля.\n",
    "\n",
    "В рамках данного ноутбука, автор хочет разобрать способ построения и разные детали, связанные с метрикой. При написании ноутбука, я автор сильно опирается на [статью Александра Геннадьевича про AUC-ROC](https://dyakonov.org/2017/07/28/auc-roc-%D0%BF%D0%BB%D0%BE%D1%89%D0%B0%D0%B4%D1%8C-%D0%BF%D0%BE%D0%B4-%D0%BA%D1%80%D0%B8%D0%B2%D0%BE%D0%B9-%D0%BE%D1%88%D0%B8%D0%B1%D0%BE%D0%BA/). "
   ]
  },
  {
   "cell_type": "markdown",
   "metadata": {},
   "source": [
    "## 1. Теория. AUC-ROC*\n",
    "\n",
    "Для начала, скажем, что AUC-ROC -- это мера, характеризующая качество классификации алгоритма. Данная функция (AUC-ROC) должна ставить в соответствие одинаковым наборам предсказанных и эталонных значений, одинаковые числовые значения. В противном случае, это была бы странная мера. <br>\n",
    " \n",
    "Для демонстрации сгенерируем выборку из 10 элементов и сделаем рассчёт AUC-ROC для этой выборки. Для каждого элемента сгенериуем пару $(pred, label)$, где $label$ -- метка класса, $pred$ -- предсказанное значение. Будем считать, что $pred$ -- предсказанное значение, $label$ -- метка класса. <br>\n",
    "\n",
    "### Замечание 1\n",
    "\n",
    "$pred$ -- значение, которое предсказывает алгоритм. Иными словами, есть выборка: $\\{x_i, y_i\\}_{i}$ и для каждого ${x_i}$ мы получаем $pred_i$. И уже для них считаем значения метрики в совокупе с $y_{i}$. $X$ -- признаки \"фичи\", \"y\" -- целевые значения, \"таргеты\". При этом, мы могли бы заменить одну метрику на другую, не пересчитывая значения $pred_i$. <br>\n",
    "\n",
    "\n",
    "Давайте на примере покажем, в чём суть AUC-ROC, для начала, не вдаваясь в детали. А затем, разберём ряд тонкостей. Начнём с метода построения AUC-ROC.  Поскольку способ подсчёта прост, опишем его как формальную процедуру, без вложения в неё какого бы то ни было смысла. После разбора алгоритма, перейдём к проработке деталей."
   ]
  },
  {
   "cell_type": "code",
   "execution_count": 8,
   "metadata": {},
   "outputs": [],
   "source": [
    "import pandas as pd\n",
    "import numpy as np\n",
    "\n",
    "from matplotlib.colors import LinearSegmentedColormap\n",
    "from matplotlib import pyplot as plt\n",
    "import seaborn as sns\n",
    "\n",
    "from tqdm import tqdm_notebook\n",
    "\n",
    "from sklearn.metrics import accuracy_score, roc_auc_score\n",
    "\n",
    "import core\n",
    "\n",
    "fontsize = 18"
   ]
  },
  {
   "cell_type": "code",
   "execution_count": 15,
   "metadata": {},
   "outputs": [
    {
     "data": {
      "text/plain": [
       "[0, 0, 1, 0, 1, 1, 1, 1, 1, 0]"
      ]
     },
     "execution_count": 15,
     "metadata": {},
     "output_type": "execute_result"
    }
   ],
   "source": [
    "df['label'].to_list()"
   ]
  },
  {
   "cell_type": "code",
   "execution_count": 90,
   "metadata": {},
   "outputs": [],
   "source": [
    "n = 10\n",
    "np.random.seed(42 * 2)\n",
    "df = pd.DataFrame(index=range(n))\n",
    "df['pred'] = np.random.rand(n)\n",
    "df['label'] = np.uint(np.random.rand(n) > 0.5)"
   ]
  },
  {
   "cell_type": "markdown",
   "metadata": {},
   "source": [
    "**Сделаем упрощенную процедуру вычисления AUC-ROC, которую будем называть AUC-ROC\\*. А затем, укажем на недостатки и введём корректировки.**\n",
    "\n",
    "Формальная процедура рассчёта AUC-ROC\\* состоит в следующем: \n",
    "\n",
    "1. Отсортировать пары $(pred, label)$ по убыванию по $pred$. После чего, следует перебирать объекты в порядке убывания $pred$, при этом подсчитывая для каждого нуля, число единиц, находящихся перед ним в упорядоченном списке. Обозначим эту величину как $X$.\n",
    "2. Подсчитать число единиц и число нулей и перемножить значения. Обозначим эту величину как $Y$.\n",
    "3. Рассчитать отношение $\\dfrac{X}{Y}$. Такую величину назовём AUC-ROC\\*."
   ]
  },
  {
   "cell_type": "markdown",
   "metadata": {},
   "source": [
    "<img src=\"auc_ranged.png\"></img>\n",
    "\n",
    "Выведем в отсортированном порядке строки: "
   ]
  },
  {
   "cell_type": "code",
   "execution_count": 91,
   "metadata": {},
   "outputs": [
    {
     "data": {
      "text/html": [
       "<style  type=\"text/css\" >\n",
       "#T_f3f51fa6_0d8d_11eb_b474_7fc4618d82d5row1_col0,#T_f3f51fa6_0d8d_11eb_b474_7fc4618d82d5row1_col2,#T_f3f51fa6_0d8d_11eb_b474_7fc4618d82d5row1_col6,#T_f3f51fa6_0d8d_11eb_b474_7fc4618d82d5row1_col8{\n",
       "            background-color:  #440154;\n",
       "            color:  #f1f1f1;\n",
       "        }#T_f3f51fa6_0d8d_11eb_b474_7fc4618d82d5row1_col1,#T_f3f51fa6_0d8d_11eb_b474_7fc4618d82d5row1_col3,#T_f3f51fa6_0d8d_11eb_b474_7fc4618d82d5row1_col4,#T_f3f51fa6_0d8d_11eb_b474_7fc4618d82d5row1_col5,#T_f3f51fa6_0d8d_11eb_b474_7fc4618d82d5row1_col7,#T_f3f51fa6_0d8d_11eb_b474_7fc4618d82d5row1_col9{\n",
       "            background-color:  #fde725;\n",
       "            color:  #000000;\n",
       "        }</style><table id=\"T_f3f51fa6_0d8d_11eb_b474_7fc4618d82d5\" ><thead>    <tr>        <th class=\"blank level0\" ></th>        <th class=\"col_heading level0 col0\" >0</th>        <th class=\"col_heading level0 col1\" >5</th>        <th class=\"col_heading level0 col2\" >9</th>        <th class=\"col_heading level0 col3\" >6</th>        <th class=\"col_heading level0 col4\" >2</th>        <th class=\"col_heading level0 col5\" >7</th>        <th class=\"col_heading level0 col6\" >1</th>        <th class=\"col_heading level0 col7\" >8</th>        <th class=\"col_heading level0 col8\" >3</th>        <th class=\"col_heading level0 col9\" >4</th>    </tr></thead><tbody>\n",
       "                <tr>\n",
       "                        <th id=\"T_f3f51fa6_0d8d_11eb_b474_7fc4618d82d5level0_row0\" class=\"row_heading level0 row0\" >pred</th>\n",
       "                        <td id=\"T_f3f51fa6_0d8d_11eb_b474_7fc4618d82d5row0_col0\" class=\"data row0 col0\" >0.046041</td>\n",
       "                        <td id=\"T_f3f51fa6_0d8d_11eb_b474_7fc4618d82d5row0_col1\" class=\"data row0 col1\" >0.130588</td>\n",
       "                        <td id=\"T_f3f51fa6_0d8d_11eb_b474_7fc4618d82d5row0_col2\" class=\"data row0 col2\" >0.131019</td>\n",
       "                        <td id=\"T_f3f51fa6_0d8d_11eb_b474_7fc4618d82d5row0_col3\" class=\"data row0 col3\" >0.173589</td>\n",
       "                        <td id=\"T_f3f51fa6_0d8d_11eb_b474_7fc4618d82d5row0_col4\" class=\"data row0 col4\" >0.242318</td>\n",
       "                        <td id=\"T_f3f51fa6_0d8d_11eb_b474_7fc4618d82d5row0_col5\" class=\"data row0 col5\" >0.258314</td>\n",
       "                        <td id=\"T_f3f51fa6_0d8d_11eb_b474_7fc4618d82d5row0_col6\" class=\"data row0 col6\" >0.370242</td>\n",
       "                        <td id=\"T_f3f51fa6_0d8d_11eb_b474_7fc4618d82d5row0_col7\" class=\"data row0 col7\" >0.418399</td>\n",
       "                        <td id=\"T_f3f51fa6_0d8d_11eb_b474_7fc4618d82d5row0_col8\" class=\"data row0 col8\" >0.628480</td>\n",
       "                        <td id=\"T_f3f51fa6_0d8d_11eb_b474_7fc4618d82d5row0_col9\" class=\"data row0 col9\" >0.990110</td>\n",
       "            </tr>\n",
       "            <tr>\n",
       "                        <th id=\"T_f3f51fa6_0d8d_11eb_b474_7fc4618d82d5level0_row1\" class=\"row_heading level0 row1\" >label</th>\n",
       "                        <td id=\"T_f3f51fa6_0d8d_11eb_b474_7fc4618d82d5row1_col0\" class=\"data row1 col0\" >0.000000</td>\n",
       "                        <td id=\"T_f3f51fa6_0d8d_11eb_b474_7fc4618d82d5row1_col1\" class=\"data row1 col1\" >1.000000</td>\n",
       "                        <td id=\"T_f3f51fa6_0d8d_11eb_b474_7fc4618d82d5row1_col2\" class=\"data row1 col2\" >0.000000</td>\n",
       "                        <td id=\"T_f3f51fa6_0d8d_11eb_b474_7fc4618d82d5row1_col3\" class=\"data row1 col3\" >1.000000</td>\n",
       "                        <td id=\"T_f3f51fa6_0d8d_11eb_b474_7fc4618d82d5row1_col4\" class=\"data row1 col4\" >1.000000</td>\n",
       "                        <td id=\"T_f3f51fa6_0d8d_11eb_b474_7fc4618d82d5row1_col5\" class=\"data row1 col5\" >1.000000</td>\n",
       "                        <td id=\"T_f3f51fa6_0d8d_11eb_b474_7fc4618d82d5row1_col6\" class=\"data row1 col6\" >0.000000</td>\n",
       "                        <td id=\"T_f3f51fa6_0d8d_11eb_b474_7fc4618d82d5row1_col7\" class=\"data row1 col7\" >1.000000</td>\n",
       "                        <td id=\"T_f3f51fa6_0d8d_11eb_b474_7fc4618d82d5row1_col8\" class=\"data row1 col8\" >0.000000</td>\n",
       "                        <td id=\"T_f3f51fa6_0d8d_11eb_b474_7fc4618d82d5row1_col9\" class=\"data row1 col9\" >1.000000</td>\n",
       "            </tr>\n",
       "    </tbody></table>"
      ],
      "text/plain": [
       "<pandas.io.formats.style.Styler at 0x7fd614802850>"
      ]
     },
     "execution_count": 91,
     "metadata": {},
     "output_type": "execute_result"
    }
   ],
   "source": [
    "df = df.sort_values('pred') #.iloc[::-1]\n",
    "df.T.style.background_gradient(cmap='viridis', axis=1, subset=pd.IndexSlice[['label'], :])"
   ]
  },
  {
   "cell_type": "markdown",
   "metadata": {},
   "source": [
    "число нулей 4, число едениц 6 тогда Y = 24 <br>\n",
    "число X = 6 + 5 + 2 + 1 = 14 \n",
    "получим значение ROC AUC* и проверим его ниже"
   ]
  },
  {
   "cell_type": "code",
   "execution_count": 68,
   "metadata": {},
   "outputs": [
    {
     "data": {
      "text/plain": [
       "0.5833333333333334"
      ]
     },
     "execution_count": 68,
     "metadata": {},
     "output_type": "execute_result"
    }
   ],
   "source": [
    "14/24"
   ]
  },
  {
   "cell_type": "markdown",
   "metadata": {},
   "source": [
    "Напишем алгоритм, который производит эти действия для произвольных пар:"
   ]
  },
  {
   "cell_type": "code",
   "execution_count": 12,
   "metadata": {},
   "outputs": [
    {
     "name": "stdout",
     "output_type": "stream",
     "text": [
      "AUC-ROC*: 0.583333\n"
     ]
    }
   ],
   "source": [
    "label = df['label'].tolist()\n",
    "pred = df['pred'].tolist()\n",
    "print('AUC-ROC*: %f' % core.AUC_ROC_mod(label=label, pred=pred))"
   ]
  },
  {
   "cell_type": "markdown",
   "metadata": {},
   "source": [
    "Тут можно сразу заметить что ROC-AUC не зависит от масштаба значений а только от их ранга. Легко увидеть что для значений ниже ROC-AUC останется тем же.<br>\n",
    "Подробнее об этом ниже."
   ]
  },
  {
   "cell_type": "code",
   "execution_count": 101,
   "metadata": {},
   "outputs": [],
   "source": [
    "df['pred']*=70\n",
    "df = df.sort_values('pred') #.iloc[::-1]\n",
    "df.T.style.background_gradient(cmap='viridis', axis=1, subset=pd.IndexSlice[['label'], :])"
   ]
  },
  {
   "cell_type": "markdown",
   "metadata": {},
   "source": [
    "Такой метод подсчета метрики можно интерпритировать как вероятность того что случайно выбранный 0 стоит перед случайно выбранной 1 <br>\n",
    "Больше интуиции ниже."
   ]
  },
  {
   "cell_type": "markdown",
   "metadata": {},
   "source": [
    "## 1. Практика\n",
    "\n",
    "Для выборок вычислите **AUC-ROC\\***:\n",
    "\n",
    "1-a). \n",
    "```\n",
    "    pred   = [0.11, 0.37, 0.24, 0.63, 0.89, 0.13, 0.17, 0.26, 0.42, 0.14]\n",
    "    label  = [   0,    0,    1,    0,    1,    1,    1,    1,    1,    0]\n",
    "```\n",
    "\n",
    "1-б). \n",
    "```\n",
    "    pred   = [0.11, 0.37, 0.24, 0.63, 0.89, 0.13, 0.17, 0.26, 0.42, 0.14]\n",
    "    label  = [   0,    1,    1,    0,    1,    1,    1,    0,    1,    0]\n",
    "```\n",
    "\n",
    "1-в). \n",
    "```\n",
    "    pred   = [0.11, 0.37, 0.24, 0.63, 0.89, 0.13, 0.17, 0.26, 0.42, 0.14]\n",
    "    label  = [   1,    1,    1,    0,    1,    0,    1,    1,    1,    0]\n",
    "```\n",
    "\n",
    "2-а). \n",
    "```\n",
    "    pred   = [0.18, 0.20, 0.29, 0.95, 0.13, 0.76, 0.14, 0.25, 0.34, 0.90]\n",
    "    label  = [   1,    0,    0,    0,    0,    1,    1,    1,    1,    0]\n",
    "```\n",
    "\n",
    "2-б). \n",
    "```\n",
    "    pred   = [0.18, 0.20, 0.29, 0.95, 0.13, 0.76, 0.14, 0.25, 0.34, 0.90]\n",
    "    label  = [   0,    1,    1,    0,    1,    1,    1,    0,    1,    0]\n",
    "```\n",
    "\n",
    "2-в). \n",
    "```\n",
    "    pred   = [0.18, 0.20, 0.29, 0.95, 0.13, 0.76, 0.14, 0.25, 0.34, 0.90]\n",
    "    label  = [   0,    1,    1,    1,    1,    0,    0,    0,    1,    0]\n",
    "```\n",
    "\n",
    "3-а). \n",
    "```\n",
    "    pred   = [0.21, 0.47, 0.34, 0.73, 0.99, 0.23, 0.27, 0.36, 0.52, 0.24]\n",
    "    label  = [   0,    1,    1,    0,    1,    1,    1,    0,    1,    0]\n",
    "```\n",
    "\n",
    "3-б). \n",
    "```\n",
    "    pred   = [0.01, 0.27, 0.14, 0.53, 0.79, 0.03, 0.07, 0.16, 0.32, 0.04]\n",
    "    label  = [   0,    1,    1,    0,    1,    1,    1,    0,    1,    0]\n",
    "```\n",
    "\n",
    "3-в). \n",
    "```\n",
    "    pred   = [0.19, 0.45, 0.32, 0.73, 0.85, 0.23, 0.29, 0.39, 0.52, 0.25]\n",
    "    label  = [   0,    1,    1,    0,    1,    1,    1,    0,    1,    0]\n",
    "```\n",
    "\n",
    "Для выборок дайте ответ, не вычисляя напрямую **AUC-ROC\\***, а затем попытайтесь вычислить значение меры:\n",
    "\n",
    "4-a). \n",
    "```\n",
    "    pred   = [0.37, 0.95, 0.73, 0.60, 0.16, 0.17, 0.06, 0.87, 0.60, 0.71]\n",
    "    label  = [   0,    0,    0,    0,    0,    0,    0,    0,    0,    0]\n",
    "```\n",
    "\n",
    "4-б). \n",
    "```\n",
    "    pred   = [0.37, 0.95, 0.73, 0.60, 0.16, 0.17, 0.06, 0.87, 0.60, 0.71]\n",
    "    label  = [   1,    1,    1,    1,    1,    1,    1,    1,    1,    1]\n",
    "```"
   ]
  },
  {
   "cell_type": "code",
   "execution_count": null,
   "metadata": {},
   "outputs": [],
   "source": []
  },
  {
   "cell_type": "code",
   "execution_count": null,
   "metadata": {},
   "outputs": [],
   "source": []
  },
  {
   "cell_type": "code",
   "execution_count": null,
   "metadata": {},
   "outputs": [],
   "source": []
  },
  {
   "cell_type": "code",
   "execution_count": null,
   "metadata": {},
   "outputs": [],
   "source": []
  },
  {
   "cell_type": "markdown",
   "metadata": {},
   "source": [
    "- Найти инварианты в auc-roc для различных подпоследовательностей. Т.е. в каком случае 2 auc-roc будут равны при перестановке таргетов / label\n",
    "- Прибавить к каждому предикту 0.05 (сделать специальный блок заданий в следующем разделе)"
   ]
  },
  {
   "cell_type": "code",
   "execution_count": null,
   "metadata": {},
   "outputs": [],
   "source": []
  },
  {
   "cell_type": "code",
   "execution_count": null,
   "metadata": {},
   "outputs": [],
   "source": []
  },
  {
   "cell_type": "code",
   "execution_count": null,
   "metadata": {},
   "outputs": [],
   "source": []
  },
  {
   "cell_type": "code",
   "execution_count": null,
   "metadata": {},
   "outputs": [],
   "source": []
  },
  {
   "cell_type": "markdown",
   "metadata": {},
   "source": [
    "## 1. Алгоритмы\n",
    "\n",
    "Напишите алгоритм, проверьте себя Вашим алгоритмов и сверьте результаты с имеющимся алгоритмом из `core`:"
   ]
  },
  {
   "cell_type": "code",
   "execution_count": 9,
   "metadata": {},
   "outputs": [],
   "source": [
    "def AUC_ROC_mod(*, label, pred):\n",
    "    pass"
   ]
  },
  {
   "cell_type": "code",
   "execution_count": null,
   "metadata": {},
   "outputs": [],
   "source": [
    "pred   = [0.11, 0.37, 0.24, 0.63, 0.89, 0.13, 0.17, 0.26, 0.42, 0.14]\n",
    "label  = [   0,    0,    1,    0,    1,    1,    1,    1,    1,    0]\n",
    "auc_roc = core.AUC_ROC_mod(label=label, pred=pred)\n",
    "print(f'1-а). AUC-ROC*: {auc_roc}')\n",
    "auc_roc = AUC_ROC_mod(label=label, pred=pred)\n",
    "print(f'1-а). Your AUC-ROC*: {auc_roc}')"
   ]
  },
  {
   "cell_type": "code",
   "execution_count": null,
   "metadata": {},
   "outputs": [],
   "source": [
    "pred   = [0.11, 0.37, 0.24, 0.63, 0.89, 0.13, 0.17, 0.26, 0.42, 0.14]\n",
    "label  = [   0,    1,    1,    0,    1,    1,    1,    0,    1,    0]\n",
    "auc_roc = core.AUC_ROC_mod(label=label, pred=pred)\n",
    "print(f'1-б). AUC-ROC*: {auc_roc}')\n",
    "auc_roc = AUC_ROC_mod(label=label, pred=pred)\n",
    "print(f'1-б). Your AUC-ROC*: {auc_roc}')"
   ]
  },
  {
   "cell_type": "code",
   "execution_count": null,
   "metadata": {},
   "outputs": [],
   "source": [
    "pred   = [0.11, 0.37, 0.24, 0.63, 0.89, 0.13, 0.17, 0.26, 0.42, 0.14]\n",
    "label  = [   1,    1,    1,    0,    1,    0,    1,    1,    1,    0]\n",
    "auc_roc = core.AUC_ROC_mod(label=label, pred=pred)\n",
    "print(f'1-в). AUC-ROC*: {auc_roc}')\n",
    "auc_roc = AUC_ROC_mod(label=label, pred=pred)\n",
    "print(f'1-в). Your AUC-ROC*: {auc_roc}')"
   ]
  },
  {
   "cell_type": "code",
   "execution_count": null,
   "metadata": {},
   "outputs": [],
   "source": [
    "pred   = [0.18, 0.20, 0.29, 0.95, 0.13, 0.76, 0.14, 0.25, 0.34, 0.90]\n",
    "label  = [   1,    0,    0,    0,    0,    1,    1,    1,    1,    0]\n",
    "auc_roc = core.AUC_ROC_mod(label=label, pred=pred)\n",
    "print(f'2-а). AUC-ROC*: {auc_roc}')\n",
    "auc_roc = AUC_ROC_mod(label=label, pred=pred)\n",
    "print(f'2-а). Your AUC-ROC*: {auc_roc}')"
   ]
  },
  {
   "cell_type": "code",
   "execution_count": null,
   "metadata": {},
   "outputs": [],
   "source": [
    "pred   = [0.18, 0.20, 0.29, 0.95, 0.13, 0.76, 0.14, 0.25, 0.34, 0.90]\n",
    "label  = [   0,    1,    1,    0,    1,    1,    1,    0,    1,    0]\n",
    "auc_roc = core.AUC_ROC_mod(label=label, pred=pred)\n",
    "print(f'2-б). AUC-ROC*: {auc_roc}')\n",
    "auc_roc = AUC_ROC_mod(label=label, pred=pred)\n",
    "print(f'2-б). Your AUC-ROC*: {auc_roc}')"
   ]
  },
  {
   "cell_type": "code",
   "execution_count": null,
   "metadata": {},
   "outputs": [],
   "source": [
    "pred   = [0.18, 0.20, 0.29, 0.95, 0.13, 0.76, 0.14, 0.25, 0.34, 0.90]\n",
    "label  = [   0,    1,    1,    1,    1,    0,    0,    0,    1,    0]\n",
    "auc_roc = core.AUC_ROC_mod(label=label, pred=pred)\n",
    "print(f'2-в). AUC-ROC*: {auc_roc}')\n",
    "auc_roc = AUC_ROC_mod(label=label, pred=pred)\n",
    "print(f'2-в). Your AUC-ROC*: {auc_roc}')"
   ]
  },
  {
   "cell_type": "code",
   "execution_count": null,
   "metadata": {},
   "outputs": [],
   "source": [
    "pred   = [0.21, 0.47, 0.34, 0.73, 0.99, 0.23, 0.27, 0.36, 0.52, 0.24]\n",
    "label  = [   0,    1,    1,    0,    1,    1,    1,    0,    1,    0]\n",
    "auc_roc = core.AUC_ROC_mod(label=label, pred=pred)\n",
    "print(f'3-а). AUC-ROC*: {auc_roc}')\n",
    "auc_roc = AUC_ROC_mod(label=label, pred=pred)\n",
    "print(f'3-а). Your AUC-ROC*: {auc_roc}')"
   ]
  },
  {
   "cell_type": "code",
   "execution_count": null,
   "metadata": {},
   "outputs": [],
   "source": [
    "pred   = [0.01, 0.27, 0.14, 0.53, 0.79, 0.03, 0.07, 0.16, 0.32, 0.04]\n",
    "label  = [   0,    1,    1,    0,    1,    1,    1,    0,    1,    0]\n",
    "auc_roc = core.AUC_ROC_mod(label=label, pred=pred)\n",
    "print(f'3-б). AUC-ROC*: {auc_roc}')\n",
    "auc_roc = AUC_ROC_mod(label=label, pred=pred)\n",
    "print(f'3-б). Your AUC-ROC*: {auc_roc}')"
   ]
  },
  {
   "cell_type": "code",
   "execution_count": null,
   "metadata": {},
   "outputs": [],
   "source": [
    "pred   = [0.19, 0.45, 0.32, 0.73, 0.85, 0.23, 0.29, 0.39, 0.52, 0.25]\n",
    "label  = [   0,    1,    1,    0,    1,    1,    1,    0,    1,    0]\n",
    "auc_roc = core.AUC_ROC_mod(label=label, pred=pred)\n",
    "print(f'3-в). AUC-ROC*: {auc_roc}')\n",
    "auc_roc = AUC_ROC_mod(label=label, pred=pred)\n",
    "print(f'3-в). Your AUC-ROC*: {auc_roc}')"
   ]
  },
  {
   "cell_type": "code",
   "execution_count": null,
   "metadata": {},
   "outputs": [],
   "source": []
  },
  {
   "cell_type": "code",
   "execution_count": null,
   "metadata": {},
   "outputs": [],
   "source": []
  },
  {
   "cell_type": "code",
   "execution_count": null,
   "metadata": {},
   "outputs": [],
   "source": []
  },
  {
   "cell_type": "code",
   "execution_count": null,
   "metadata": {},
   "outputs": [],
   "source": []
  },
  {
   "cell_type": "code",
   "execution_count": null,
   "metadata": {},
   "outputs": [],
   "source": []
  },
  {
   "cell_type": "markdown",
   "metadata": {},
   "source": [
    "В данном случае у нас есть некоторая вольность в вычислении AUC-ROC\\*, которая может приводить к тому, что мы будем получать различные значения алгоритма в ряде случаев. Для того, чтобы это продемонстрировать эту особенность, давайте в столбце $pred$ укажем несколько **одинаковых** значений:"
   ]
  },
  {
   "cell_type": "code",
   "execution_count": 72,
   "metadata": {},
   "outputs": [
    {
     "name": "stdout",
     "output_type": "stream",
     "text": [
      "AUC-ROC*: 0.583333\n"
     ]
    },
    {
     "data": {
      "text/html": [
       "<div>\n",
       "<style scoped>\n",
       "    .dataframe tbody tr th:only-of-type {\n",
       "        vertical-align: middle;\n",
       "    }\n",
       "\n",
       "    .dataframe tbody tr th {\n",
       "        vertical-align: top;\n",
       "    }\n",
       "\n",
       "    .dataframe thead th {\n",
       "        text-align: right;\n",
       "    }\n",
       "</style>\n",
       "<table border=\"1\" class=\"dataframe\">\n",
       "  <thead>\n",
       "    <tr style=\"text-align: right;\">\n",
       "      <th></th>\n",
       "      <th>pred</th>\n",
       "      <th>label</th>\n",
       "    </tr>\n",
       "  </thead>\n",
       "  <tbody>\n",
       "    <tr>\n",
       "      <th>4</th>\n",
       "      <td>485.1539</td>\n",
       "      <td>1</td>\n",
       "    </tr>\n",
       "    <tr>\n",
       "      <th>3</th>\n",
       "      <td>307.9552</td>\n",
       "      <td>0</td>\n",
       "    </tr>\n",
       "    <tr>\n",
       "      <th>8</th>\n",
       "      <td>205.0111</td>\n",
       "      <td>1</td>\n",
       "    </tr>\n",
       "    <tr>\n",
       "      <th>1</th>\n",
       "      <td>181.4176</td>\n",
       "      <td>0</td>\n",
       "    </tr>\n",
       "    <tr>\n",
       "      <th>7</th>\n",
       "      <td>126.5719</td>\n",
       "      <td>1</td>\n",
       "    </tr>\n",
       "    <tr>\n",
       "      <th>2</th>\n",
       "      <td>118.7319</td>\n",
       "      <td>1</td>\n",
       "    </tr>\n",
       "    <tr>\n",
       "      <th>6</th>\n",
       "      <td>118.7319</td>\n",
       "      <td>1</td>\n",
       "    </tr>\n",
       "    <tr>\n",
       "      <th>9</th>\n",
       "      <td>118.7319</td>\n",
       "      <td>0</td>\n",
       "    </tr>\n",
       "    <tr>\n",
       "      <th>5</th>\n",
       "      <td>63.9842</td>\n",
       "      <td>1</td>\n",
       "    </tr>\n",
       "    <tr>\n",
       "      <th>0</th>\n",
       "      <td>22.5400</td>\n",
       "      <td>0</td>\n",
       "    </tr>\n",
       "  </tbody>\n",
       "</table>\n",
       "</div>"
      ],
      "text/plain": [
       "       pred  label\n",
       "4  485.1539      1\n",
       "3  307.9552      0\n",
       "8  205.0111      1\n",
       "1  181.4176      0\n",
       "7  126.5719      1\n",
       "2  118.7319      1\n",
       "6  118.7319      1\n",
       "9  118.7319      0\n",
       "5   63.9842      1\n",
       "0   22.5400      0"
      ]
     },
     "execution_count": 72,
     "metadata": {},
     "output_type": "execute_result"
    }
   ],
   "source": [
    "df_dupl = df.copy(deep=True)\n",
    "df_dupl['pred'].at[6] = df_dupl['pred'].loc[2]\n",
    "df_dupl['pred'].at[9] = df_dupl['pred'].loc[2]\n",
    "df_dupl = df_dupl.sort_values(by='pred').iloc[::-1]\n",
    "label = df_dupl['label'].tolist()\n",
    "pred = df_dupl['pred'].tolist()\n",
    "print('AUC-ROC*: %f' % core.AUC_ROC_mod(label=label, pred=pred))\n",
    "df_dupl"
   ]
  },
  {
   "cell_type": "code",
   "execution_count": null,
   "metadata": {},
   "outputs": [],
   "source": [
    "del df"
   ]
  },
  {
   "cell_type": "markdown",
   "metadata": {},
   "source": [
    "Теперь рассмотрим те объекты, у которых в столбце pred стоят одинаковые значения. В силу того, что мы не оговариваем способ сортировки в случае равенства значений в столбце pred, оказывается, что значения AUC-ROC\\* могут быть различными, при различных подходах: в рамках группы одинаковых объектов по pred мы вольны выбирать порядок. Приведём пример."
   ]
  },
  {
   "cell_type": "code",
   "execution_count": 73,
   "metadata": {},
   "outputs": [
    {
     "name": "stdout",
     "output_type": "stream",
     "text": [
      "AUC-ROC*: 0.541667\n"
     ]
    },
    {
     "data": {
      "text/html": [
       "<div>\n",
       "<style scoped>\n",
       "    .dataframe tbody tr th:only-of-type {\n",
       "        vertical-align: middle;\n",
       "    }\n",
       "\n",
       "    .dataframe tbody tr th {\n",
       "        vertical-align: top;\n",
       "    }\n",
       "\n",
       "    .dataframe thead th {\n",
       "        text-align: right;\n",
       "    }\n",
       "</style>\n",
       "<table border=\"1\" class=\"dataframe\">\n",
       "  <thead>\n",
       "    <tr style=\"text-align: right;\">\n",
       "      <th></th>\n",
       "      <th>pred</th>\n",
       "      <th>label</th>\n",
       "    </tr>\n",
       "  </thead>\n",
       "  <tbody>\n",
       "    <tr>\n",
       "      <th>4</th>\n",
       "      <td>485.1539</td>\n",
       "      <td>1.0</td>\n",
       "    </tr>\n",
       "    <tr>\n",
       "      <th>3</th>\n",
       "      <td>307.9552</td>\n",
       "      <td>0.0</td>\n",
       "    </tr>\n",
       "    <tr>\n",
       "      <th>8</th>\n",
       "      <td>205.0111</td>\n",
       "      <td>1.0</td>\n",
       "    </tr>\n",
       "    <tr>\n",
       "      <th>1</th>\n",
       "      <td>181.4176</td>\n",
       "      <td>0.0</td>\n",
       "    </tr>\n",
       "    <tr>\n",
       "      <th>7</th>\n",
       "      <td>126.5719</td>\n",
       "      <td>1.0</td>\n",
       "    </tr>\n",
       "    <tr>\n",
       "      <th>2</th>\n",
       "      <td>118.7319</td>\n",
       "      <td>1.0</td>\n",
       "    </tr>\n",
       "    <tr>\n",
       "      <th>6</th>\n",
       "      <td>118.7319</td>\n",
       "      <td>0.0</td>\n",
       "    </tr>\n",
       "    <tr>\n",
       "      <th>9</th>\n",
       "      <td>118.7319</td>\n",
       "      <td>1.0</td>\n",
       "    </tr>\n",
       "    <tr>\n",
       "      <th>5</th>\n",
       "      <td>63.9842</td>\n",
       "      <td>1.0</td>\n",
       "    </tr>\n",
       "    <tr>\n",
       "      <th>0</th>\n",
       "      <td>22.5400</td>\n",
       "      <td>0.0</td>\n",
       "    </tr>\n",
       "  </tbody>\n",
       "</table>\n",
       "</div>"
      ],
      "text/plain": [
       "       pred  label\n",
       "4  485.1539    1.0\n",
       "3  307.9552    0.0\n",
       "8  205.0111    1.0\n",
       "1  181.4176    0.0\n",
       "7  126.5719    1.0\n",
       "2  118.7319    1.0\n",
       "6  118.7319    0.0\n",
       "9  118.7319    1.0\n",
       "5   63.9842    1.0\n",
       "0   22.5400    0.0"
      ]
     },
     "execution_count": 73,
     "metadata": {},
     "output_type": "execute_result"
    }
   ],
   "source": [
    "df_dupl_ = df_dupl.copy(deep=True)\n",
    "df_dupl_.loc[9], df_dupl_.loc[6] = df_dupl_.loc[6].copy(), df_dupl_.loc[9].copy()\n",
    "label = df_dupl_['label'].tolist()\n",
    "pred = df_dupl_['pred'].tolist()\n",
    "print('AUC-ROC*: %f' % core.AUC_ROC_mod(label=label, pred=pred))\n",
    "df_dupl_"
   ]
  },
  {
   "cell_type": "markdown",
   "metadata": {},
   "source": [
    "Как видим, значение ROC-AUC\\* отличается от предыдущего, хотя ничего существенного не произошло: мы поменяли два объекта местами и это никак не должно было отразиться на качестве алгоритма. Этот эффект возникает из-за наличия групп одинаковых элементов. Исходя из здравого смысла кажется, что коль скоро алгоритм для двух объектов, которые обладают различными метками, даёт одинаковые оценки, мы не можем сказать: хорошо проведена классификация или нет.\n",
    "\n",
    "**Важно**. Важный аспект, в столбце $pred$ хранятся значения, которые выдаёт **какой-нибудь** алгоритм. Это может быть дерево решений, линейная регрессия, да хоть `if a > b`. Важно, что эти значения никак не могут поменяться просто так и уж точно на метрику их перестановка не должна влиять и получены для некоторого $x_i$. Если Вы не поняли, в чём суть, попробуйте перечитать **замечание 1**.\n",
    "\n",
    "Перед тем, как указать способ решения данной проблемы, давайте немного поговорим о том, как интерпретировать AUC-ROC и обсудим смысл данного алгоритма. \n",
    "\n",
    "<br>\n",
    "\n",
    "<i><u>Не считая скажите, чему будет равен **AUC-ROC**</u></i>\n",
    "\n",
    "- Все единицы, все нули - ?\n",
    "- Последовательные единицы - ?\n",
    "- Последовательные нули - ?\n",
    "- Чередующиеся единицы - ?\n",
    "- Чедующиеся нули и единицы - ?\n",
    "\n",
    "\n",
    "# Интерпретация AUC-ROC\n",
    "\n",
    "Взглянем более пристально на смысл дроби $\\dfrac{X}{Y}$. В знаменателе находится число, обозначающее количество связей между 1 и 0. Это можно визуализировать двудольным графом:"
   ]
  },
  {
   "cell_type": "code",
   "execution_count": 102,
   "metadata": {},
   "outputs": [],
   "source": [
    "n = 10\n",
    "np.random.seed(42 * 2)\n",
    "df = pd.DataFrame(index=range(n))\n",
    "df['pred'] = np.random.rand(n)\n",
    "df['label'] = np.uint(np.random.rand(n) > 0.5)\n",
    "\n",
    "one = list(range(df[df['label'] == 1].shape[0]))\n",
    "zero = list(range(df[df['label'] == 0].shape[0]))\n",
    "fig, ax = plt.subplots()\n",
    "for i in one:\n",
    "    for j in zero:\n",
    "        plt.plot([0, 1], [zero[j], one[i]], 'k-')\n",
    "plt.plot([0] * len(zero), zero, 'bo', markersize=10)\n",
    "plt.plot([1] * len(one), one, 'ro', markersize=10)\n",
    "plt.xticks([0, 1], fontsize=fontsize)\n",
    "plt.yticks([])\n",
    "ax.spines['top'].set_visible(False)\n",
    "ax.spines['right'].set_visible(False)\n",
    "ax.spines['bottom'].set_visible(False)\n",
    "ax.spines['left'].set_visible(False)\n",
    "plt.title('Двудольный граф 1', fontsize=fontsize);"
   ]
  },
  {
   "cell_type": "markdown",
   "metadata": {},
   "source": [
    "Давайте обозначим долю графа, которая содержит 0 как долю $U_0$, а долю, которая содержит 1 как долю $V_1$. Поставим в соответствие каждой вершине оценку, данную алгоритмом, и, после этого, согласно нашему алгоритму, оставим только те связи, для которых  $f(u) \\leq f(v)$, где $u \\in U_0, v \\in V_1$"
   ]
  },
  {
   "cell_type": "code",
   "execution_count": 103,
   "metadata": {},
   "outputs": [],
   "source": [
    "one = list(df[df['label'] == 1]['pred'].values)[::-1]\n",
    "zero = list(df[df['label'] == 0]['pred'].values)[::-1]\n",
    "fig, ax = plt.subplots()\n",
    "for i in range(len(one)):\n",
    "    for j in range(len(zero)):\n",
    "        if zero[j] < one[i]:\n",
    "            plt.plot([0, 1], [j, i], 'k-')\n",
    "\n",
    "for i, val in enumerate(zero):\n",
    "    plt.text(-0.175, i, s=str(val)[:4], fontsize=fontsize)\n",
    "for i, val in enumerate(one):\n",
    "    plt.text(1+0.05, i, s=str(val)[:4], fontsize=fontsize)\n",
    "plt.plot([0] * len(zero), list(range(len(zero))), 'bo', markersize=10)\n",
    "plt.plot([1] * len(one), list(range(len(one))), 'ro', markersize=10)\n",
    "plt.xticks([0, 1], ['$U_0$', '$V_1$'], fontsize=fontsize)\n",
    "plt.yticks([])\n",
    "ax.spines['top'].set_visible(False)\n",
    "ax.spines['right'].set_visible(False)\n",
    "ax.spines['bottom'].set_visible(False)\n",
    "ax.spines['left'].set_visible(False)\n",
    "plt.title('Двудольный граф 2', fontsize=fontsize);"
   ]
  },
  {
   "cell_type": "code",
   "execution_count": 81,
   "metadata": {},
   "outputs": [
    {
     "data": {
      "text/html": [
       "<style  type=\"text/css\" >\n",
       "#T_d2a6d43a_0d8c_11eb_b474_7fc4618d82d5row1_col0,#T_d2a6d43a_0d8c_11eb_b474_7fc4618d82d5row1_col2,#T_d2a6d43a_0d8c_11eb_b474_7fc4618d82d5row1_col6,#T_d2a6d43a_0d8c_11eb_b474_7fc4618d82d5row1_col8{\n",
       "            background-color:  #440154;\n",
       "            color:  #f1f1f1;\n",
       "        }#T_d2a6d43a_0d8c_11eb_b474_7fc4618d82d5row1_col1,#T_d2a6d43a_0d8c_11eb_b474_7fc4618d82d5row1_col3,#T_d2a6d43a_0d8c_11eb_b474_7fc4618d82d5row1_col4,#T_d2a6d43a_0d8c_11eb_b474_7fc4618d82d5row1_col5,#T_d2a6d43a_0d8c_11eb_b474_7fc4618d82d5row1_col7,#T_d2a6d43a_0d8c_11eb_b474_7fc4618d82d5row1_col9{\n",
       "            background-color:  #fde725;\n",
       "            color:  #000000;\n",
       "        }</style><table id=\"T_d2a6d43a_0d8c_11eb_b474_7fc4618d82d5\" ><thead>    <tr>        <th class=\"blank level0\" ></th>        <th class=\"col_heading level0 col0\" >0</th>        <th class=\"col_heading level0 col1\" >5</th>        <th class=\"col_heading level0 col2\" >9</th>        <th class=\"col_heading level0 col3\" >6</th>        <th class=\"col_heading level0 col4\" >2</th>        <th class=\"col_heading level0 col5\" >7</th>        <th class=\"col_heading level0 col6\" >1</th>        <th class=\"col_heading level0 col7\" >8</th>        <th class=\"col_heading level0 col8\" >3</th>        <th class=\"col_heading level0 col9\" >4</th>    </tr></thead><tbody>\n",
       "                <tr>\n",
       "                        <th id=\"T_d2a6d43a_0d8c_11eb_b474_7fc4618d82d5level0_row0\" class=\"row_heading level0 row0\" >pred</th>\n",
       "                        <td id=\"T_d2a6d43a_0d8c_11eb_b474_7fc4618d82d5row0_col0\" class=\"data row0 col0\" >0.046000</td>\n",
       "                        <td id=\"T_d2a6d43a_0d8c_11eb_b474_7fc4618d82d5row0_col1\" class=\"data row0 col1\" >0.130580</td>\n",
       "                        <td id=\"T_d2a6d43a_0d8c_11eb_b474_7fc4618d82d5row0_col2\" class=\"data row0 col2\" >0.131010</td>\n",
       "                        <td id=\"T_d2a6d43a_0d8c_11eb_b474_7fc4618d82d5row0_col3\" class=\"data row0 col3\" >0.173580</td>\n",
       "                        <td id=\"T_d2a6d43a_0d8c_11eb_b474_7fc4618d82d5row0_col4\" class=\"data row0 col4\" >0.242310</td>\n",
       "                        <td id=\"T_d2a6d43a_0d8c_11eb_b474_7fc4618d82d5row0_col5\" class=\"data row0 col5\" >0.258310</td>\n",
       "                        <td id=\"T_d2a6d43a_0d8c_11eb_b474_7fc4618d82d5row0_col6\" class=\"data row0 col6\" >0.370240</td>\n",
       "                        <td id=\"T_d2a6d43a_0d8c_11eb_b474_7fc4618d82d5row0_col7\" class=\"data row0 col7\" >0.418390</td>\n",
       "                        <td id=\"T_d2a6d43a_0d8c_11eb_b474_7fc4618d82d5row0_col8\" class=\"data row0 col8\" >0.628480</td>\n",
       "                        <td id=\"T_d2a6d43a_0d8c_11eb_b474_7fc4618d82d5row0_col9\" class=\"data row0 col9\" >0.990110</td>\n",
       "            </tr>\n",
       "            <tr>\n",
       "                        <th id=\"T_d2a6d43a_0d8c_11eb_b474_7fc4618d82d5level0_row1\" class=\"row_heading level0 row1\" >label</th>\n",
       "                        <td id=\"T_d2a6d43a_0d8c_11eb_b474_7fc4618d82d5row1_col0\" class=\"data row1 col0\" >0.000000</td>\n",
       "                        <td id=\"T_d2a6d43a_0d8c_11eb_b474_7fc4618d82d5row1_col1\" class=\"data row1 col1\" >1.000000</td>\n",
       "                        <td id=\"T_d2a6d43a_0d8c_11eb_b474_7fc4618d82d5row1_col2\" class=\"data row1 col2\" >0.000000</td>\n",
       "                        <td id=\"T_d2a6d43a_0d8c_11eb_b474_7fc4618d82d5row1_col3\" class=\"data row1 col3\" >1.000000</td>\n",
       "                        <td id=\"T_d2a6d43a_0d8c_11eb_b474_7fc4618d82d5row1_col4\" class=\"data row1 col4\" >1.000000</td>\n",
       "                        <td id=\"T_d2a6d43a_0d8c_11eb_b474_7fc4618d82d5row1_col5\" class=\"data row1 col5\" >1.000000</td>\n",
       "                        <td id=\"T_d2a6d43a_0d8c_11eb_b474_7fc4618d82d5row1_col6\" class=\"data row1 col6\" >0.000000</td>\n",
       "                        <td id=\"T_d2a6d43a_0d8c_11eb_b474_7fc4618d82d5row1_col7\" class=\"data row1 col7\" >1.000000</td>\n",
       "                        <td id=\"T_d2a6d43a_0d8c_11eb_b474_7fc4618d82d5row1_col8\" class=\"data row1 col8\" >0.000000</td>\n",
       "                        <td id=\"T_d2a6d43a_0d8c_11eb_b474_7fc4618d82d5row1_col9\" class=\"data row1 col9\" >1.000000</td>\n",
       "            </tr>\n",
       "    </tbody></table>"
      ],
      "text/plain": [
       "<pandas.io.formats.style.Styler at 0x7fd61877a2e0>"
      ]
     },
     "execution_count": 81,
     "metadata": {},
     "output_type": "execute_result"
    }
   ],
   "source": [
    "df = df.sort_values('pred') #.iloc[::-1]\n",
    "df.T.style.background_gradient(cmap='viridis', axis=1, subset=pd.IndexSlice[['label'], :])"
   ]
  },
  {
   "cell_type": "markdown",
   "metadata": {},
   "source": [
    "Фактически, задавая на графе оценки, полученные при помощи алгоритма, мы вводим ограничение. При этом, изначально двудольный граф задаётся только лишь тестовой выборкой и никак не зависит от алгоритма.\n",
    "\n",
    "Мы можем представить граф матрицей:"
   ]
  },
  {
   "cell_type": "code",
   "execution_count": 104,
   "metadata": {},
   "outputs": [],
   "source": [
    "def PlotConnMatrix(df):\n",
    "    one = list(df[df['label'] == 1]['pred'].values)[::-1]\n",
    "    zero = list(df[df['label'] == 0]['pred'].values)[::-1]\n",
    "    connections = np.zeros((len(zero), len(one)))\n",
    "    for i in range(len(one)):\n",
    "        for j in range(len(zero)):\n",
    "            if zero[j] < one[i]:\n",
    "                connections[j, i] = 1\n",
    "    connections = pd.DataFrame(connections, dtype=np.uint, index=[str(x)[:4] for x in zero], columns=[str(x)[:4] for x in one])\n",
    "\n",
    "    colors = ((0.25, 0.25, 0.25), (.75, .75, .75))\n",
    "    cmap = LinearSegmentedColormap.from_list('Custom', colors, len(colors))\n",
    "    ax = sns.heatmap(connections, linewidth=0.5, cmap=cmap)\n",
    "    plt.yticks(rotation=0, fontsize=fontsize)\n",
    "    plt.xticks(fontsize=fontsize)\n",
    "    plt.ylabel('Нулевые метки', fontsize=fontsize)\n",
    "    plt.xlabel('Единичные метки', fontsize=fontsize)\n",
    "    colorbar = ax.collections[0].colorbar\n",
    "    colorbar.set_ticks([0, 1])\n",
    "    colorbar.set_ticks([0.25, 0.75])\n",
    "    colorbar.set_ticklabels(['Нет связи', 'Есть связь'])\n",
    "\n",
    "PlotConnMatrix(df)"
   ]
  },
  {
   "cell_type": "markdown",
   "metadata": {},
   "source": [
    "Исходя из проделанных построений, можно сделать несколько выводов:\n",
    "\n",
    "* Наша мера задана в [ранговой шкале](https://ru.wikipedia.org/wiki/%D0%A8%D0%BA%D0%B0%D0%BB%D0%B0), а значит для нашей [матрицы связей](https://www.twirpx.com/file/283458/), которая задаёт AUC-ROC\\* не страшны преобразования масштабирования и сдвига. Всё это говорит о том, что AUC-ROC\\* инвариантен к преобразованиям сдвига и масштаба. Например, [Задача 1](https://dyakonov.org/2015/10/09/%D0%B7%D0%B0%D0%B4%D0%B0%D1%87%D0%BA%D0%B8-%D0%BF%D1%80%D0%BE-auc-roc/) именно про это.\n",
    "* Из наших построений прямо следует вероятностная интерпретация. Всё пространство объектов -- это полный двудольный граф 1. При этом граф 2, который был построен вторым, задаёт подпространство, характеризующее долю верно упорядоченных объектов. Тогда можем сказать, что AUC-ROC характеризует возможность алгоритма верно упорядочивать объекты. Или по-другому: \"вероятность того, что случайно взятый объект класса 1 имеет оценку принадлежности к классу 1 выше, чем случайно взятый объект класса 0.\" (можно прочитать [здесь](https://dyakonov.org/2017/07/28/auc-roc-%D0%BF%D0%BB%D0%BE%D1%89%D0%B0%D0%B4%D1%8C-%D0%BF%D0%BE%D0%B4-%D0%BA%D1%80%D0%B8%D0%B2%D0%BE%D0%B9-%D0%BE%D1%88%D0%B8%D0%B1%D0%BE%D0%BA/) и [здесь](https://habr.com/company/ods/blog/328372/)). В таком случае, данная мера может с успехом применяться в задачах ранжирования.\n",
    "* Следует отметить, что любой алгоритм $a_0$ можно сравить с любым дургим алгоритмом $a_1$, сравнивая их вероятности, поскольку сравнение происходит в рамках одного вероятностного пространства. Записать это легко так $P(a_0) \\leq P(a_1)$  или $P(a_0) > P(a_1)$. В данном случае, важно, что сравнение качества алгоритмов происходит на одинаковой выборке, в рамках одного графа. Если же валидационные выборки различные, то мы не можем просто так сравнить два алгоритма (с формальной точки зрения это будет некорректно), поскольку в нашей интерпретации, сравнение будет происходить уже в разных пространствах.\n",
    "* AUC-ROC не зависит от масштаба. Но кажется, что масштаб может играть роль. Очевидно, что значения, которые стоят первыми в отсортированном списке, важнее, ровно как и значения, которые стоят последними. Они важнее, поскольку находятся дальше от границы между классами. Но данная мера это никак не учитывает, что искажает оценку в ряде задач. В таком случае, требуется модифицировать AUC-ROC так, чтобы масштаб учитывался.\n",
    "\n",
    "**Вопрос: как быть, если мы хотим сравнить алгоритмы, которые тестировались на различных выборках. В таком случае, возможно, нам поможет умение сравнивать ранговые разбиения. Это может оказаться важным, например, в случае, когда мы проводим валидацию на различных фолдах.**\n",
    "\n",
    "Можно заметить, что в матрице у нас есть одинаковые оценки в строках и в столбцах. Давайте теперь вернёмся к проблеме неоднозначности в данной задаче.\n",
    "\n",
    "# Модификация AUC-ROC* до AUC-ROC\n",
    "\n",
    "Как говорилось выше, у нас есть некоторая вольность при выборе способа сортировки. Давайте избавимся от этого и будем сортировать оценки и метки классов сначала по pred, а затем по label. Продемонстрируем то, что у нас получится, если по-разному подходить к сортировке. Наиоблее разумными кажутся два подхода: \n",
    "\n",
    "* Сортировать пары (pred, label) по убыванию pred, а затем по возрастанию label (в случае равенства $pred_i$ и $pred_j$)\n",
    "* Сортировать пары (pred, label) по убыванию pred, а затем по убыванию label (в случае равенства $pred_i$ и $pred_j$)"
   ]
  },
  {
   "cell_type": "code",
   "execution_count": 105,
   "metadata": {},
   "outputs": [],
   "source": [
    "def PlotConnMatrixEq(df, eq=False):\n",
    "    one = list(df[df['label'] == 1]['pred'].values)[::-1]\n",
    "    zero = list(df[df['label'] == 0]['pred'].values)[::-1]\n",
    "    connections = np.zeros((len(zero), len(one)))\n",
    "    for i in range(len(one)):\n",
    "        for j in range(len(zero)):\n",
    "            if zero[j] < one[i] or zero[j] == one[i] and eq:\n",
    "                connections[j, i] = 1\n",
    "    connections = pd.DataFrame(connections, dtype=np.uint, index=[str(x)[:4] for x in zero], columns=[str(x)[:4] for x in one])\n",
    "\n",
    "    colors = ((0.25, 0.25, 0.25), (.75, .75, .75))\n",
    "    cmap = LinearSegmentedColormap.from_list('Custom', colors, len(colors))\n",
    "    ax = sns.heatmap(connections, linewidth=0.5, cmap=cmap)\n",
    "    plt.yticks(rotation=0, fontsize=fontsize)\n",
    "    plt.xticks(fontsize=fontsize)\n",
    "    plt.ylabel('Нулевые метки', fontsize=fontsize)\n",
    "    plt.xlabel('Единичные метки', fontsize=fontsize)\n",
    "    colorbar = ax.collections[0].colorbar\n",
    "    colorbar.set_ticks([0, 1])\n",
    "    colorbar.set_ticks([0.25, 0.75])\n",
    "    colorbar.set_ticklabels(['Нет связи', 'Есть связь']);\n",
    "\n",
    "PlotConnMatrixEq(df, True)\n",
    "plt.title('Равенство включено', fontsize=fontsize)\n",
    "\n",
    "plt.figure()\n",
    "PlotConnMatrixEq(df, False)\n",
    "plt.title('Равенство исключено', fontsize=fontsize);"
   ]
  },
  {
   "cell_type": "markdown",
   "metadata": {},
   "source": [
    "Таким образом, в первом случае, мы будем считать, что все объекты, для которых метки различны, упорядочены верно, а во втором случае мы будем считать, что все объекты, для которых метки различны, упорядочены неверно. И тот, и другой способ даёт перекос. Логичнее брать такого типа объекты с весом 0.5. Назовём такие связи связи-0.5:"
   ]
  },
  {
   "cell_type": "code",
   "execution_count": 106,
   "metadata": {},
   "outputs": [],
   "source": [
    "def PlotConnMatrix0_5(df, is_show=True):\n",
    "    one = list(df[df['label'] == 1]['pred'].values)[::-1]\n",
    "    zero = list(df[df['label'] == 0]['pred'].values)[::-1]\n",
    "    connections = np.zeros((len(zero), len(one)))\n",
    "    for i in range(len(one)):\n",
    "        for j in range(len(zero)):\n",
    "            if zero[j] < one[i]:\n",
    "                connections[j, i] = 1\n",
    "            if zero[j] == one[i]:\n",
    "                connections[j, i] = 0.5\n",
    "    connections = pd.DataFrame(connections, index=[str(x)[:4] for x in zero], columns=[str(x)[:4] for x in one])\n",
    "\n",
    "    if is_show:\n",
    "        colors = ((0.25, 0.25, 0.25), (.5, .5, .5), (.8, .8, .8))\n",
    "        cmap = LinearSegmentedColormap.from_list('Custom', colors, len(colors))\n",
    "        ax = sns.heatmap(connections, linewidth=0.5, cmap=cmap)\n",
    "        plt.yticks(rotation=0, fontsize=fontsize)\n",
    "        plt.xticks(fontsize=fontsize)\n",
    "        plt.ylabel('Нулевые метки', fontsize=fontsize)\n",
    "        plt.xlabel('Единичные метки', fontsize=fontsize)\n",
    "        colorbar = ax.collections[0].colorbar\n",
    "        colorbar.set_ticks([0.25, 0.5, 0.75])\n",
    "        colorbar.set_ticklabels(['Нет связи', 'Связь 0.5', 'Есть связь'])\n",
    "    return connections\n",
    "\n",
    "PlotConnMatrix0_5(df)\n",
    "plt.title('ROC-AUC', fontsize=fontsize);"
   ]
  },
  {
   "cell_type": "markdown",
   "metadata": {},
   "source": [
    "Таким образом, мы модифицировали AUC-ROC\\* до AUC-ROC.\n",
    "\n",
    "**Замечание**: AUC-ROC\\*, в зависимости от способа сортировки, задаёт либо отношение частичного порядка, либо строгое отношение частичного порядка [Описано тут](https://neerc.ifmo.ru/wiki/index.php?title=%D0%9E%D1%82%D0%BD%D0%BE%D1%88%D0%B5%D0%BD%D0%B8%D0%B5_%D0%BF%D0%BE%D1%80%D1%8F%D0%B4%D0%BA%D0%B0).\n",
    "\n",
    "Можно [ввести формулу](https://dyakonov.org/2017/07/28/auc-roc-%D0%BF%D0%BB%D0%BE%D1%89%D0%B0%D0%B4%D1%8C-%D0%BF%D0%BE%D0%B4-%D0%BA%D1%80%D0%B8%D0%B2%D0%BE%D0%B9-%D0%BE%D1%88%D0%B8%D0%B1%D0%BE%D0%BA/) для рассчёта значений AUC-ROC:\n",
    "\n",
    "$\\dfrac{\\sum\\limits_{i=1}^q\\sum\\limits_{j=1}^q I[y_i < y_j]I'[a_i < a_j]}{\\sum\\limits_{i=1}^q\\sum\\limits_{j=1}^q I[y_i < y_j]}$,\n",
    "\n",
    "где \n",
    "\n",
    "$\n",
    "I' = \\begin{cases} 0, & a_i > a_j \\\\ 0.5, & a_i = a_j \\\\ 1, & a_i < a_j  \\end{cases},  \n",
    "I = \\begin{cases} 0, & y_i \\geq y_j \\\\ 1, & y_i < y_j  \\end{cases}\n",
    "$\n",
    "\n",
    "$a_i$ -- ответ алгоритма на $i$-м примере, $y_i$ -- метка алгоритма. Как мы говорили ранее, в данной формуле очень важно случай равенства для $I'$. В противном случае, мы получим AUC-ROC\\*. Вычисление данной формулы совпадает с алгоритмом, который описан выше. Если Вы попытаетесь вычислить данную формулу, избавившись от многочисленных нулей, которые присутствуют в вычислениях, то получите ровно тот алгоритм, который был приведён."
   ]
  },
  {
   "cell_type": "markdown",
   "metadata": {},
   "source": [
    "# Классический способ построения AUC-ROC"
   ]
  },
  {
   "cell_type": "markdown",
   "metadata": {},
   "source": [
    "Как правило, AUC-ROC вычисляют, как площадь под кривой в осях FPR, TPR. Лично мне с этими величинами было довольно сложно смириться. Странные они какие-то и я постоянно путаю их. Для того, чтобы их расшифровать, как правило вводится таблица:"
   ]
  },
  {
   "cell_type": "code",
   "execution_count": null,
   "metadata": {},
   "outputs": [],
   "source": [
    "err = pd.DataFrame(index=['Pred 1', 'Pred 0'], columns=['Label 1', 'Label 0'])\n",
    "err['Label 1'] = ['True Positive (TP)', 'False Negative (FN)']\n",
    "err['Label 0'] = ['False Positive (FP)', 'True Negative (TN)']\n",
    "err"
   ]
  },
  {
   "cell_type": "markdown",
   "metadata": {},
   "source": [
    "Для того, чтобы запомнить эту таблицу, нужно немного. Во-первых, следует ассоциировать Pred 1 c Positive, а Pred 0 с Negative. Таким образом, Positive и Negative -- это названием оценок для классов. Так что можно записать:"
   ]
  },
  {
   "cell_type": "code",
   "execution_count": null,
   "metadata": {},
   "outputs": [],
   "source": [
    "err.index = ['Positive', 'Negative']\n",
    "err"
   ]
  },
  {
   "cell_type": "markdown",
   "metadata": {},
   "source": [
    "True и False стоят на главной и побочной диагоналях и характеризуют правильность предсказания. True обозначает классы правильно предсказанных объектов (положительный и отрицательны), False -- неправильно.\n",
    "\n",
    "Исходя из этих определений, можно построить FPR и TPR:\n",
    "\n",
    "$FPR = \\dfrac{FP}{FP+TN}$ -- доля ошибочно классифицированных объектов нулевого класса\n",
    "\n",
    "$TPR = \\dfrac{TP}{TP+FN}$ -- доля правильно классифицированных объектов единичного класса\n",
    "\n",
    "Здесь следует отметить, что многие алгоритмы классификации предоставляют нам в пользование степень пренадлежности тому или иному классу. Но степень принадлежности интересна далеко не всегда, особенно в задачах классификации. Намного важнее получать информацию о принадлежности к классу точно, а не степень принадлежности. В связи с этим, за нами остаётся право выбирать пороговое значение для степени принадлежности. В зависимости от этого значения, очевидно, будет меняться как FPR, так и TPR.\n",
    "\n",
    "Теперь давайте рассмотрим [следующий алгоритм](https://dyakonov.org/2017/07/28/auc-roc-%D0%BF%D0%BB%D0%BE%D1%89%D0%B0%D0%B4%D1%8C-%D0%BF%D0%BE%D0%B4-%D0%BA%D1%80%D0%B8%D0%B2%D0%BE%D0%B9-%D0%BE%D1%88%D0%B8%D0%B1%D0%BE%D0%BA/) вычисления AUC-ROC, исповедующий явное построение кривой. Мы с читаем, что у нас есть известные нам оценки pred и метки label. Пусть, как и раньше, мы имеем выборку (взята из примера по ссылке):"
   ]
  },
  {
   "cell_type": "code",
   "execution_count": null,
   "metadata": {},
   "outputs": [],
   "source": [
    "df = pd.DataFrame()\n",
    "df['pred'] = [0.6, 0.5, 0.3, 0.2, 0.2, 0.1, 0]\n",
    "df['label'] = [1, 0, 1, 0, 1, 0, 0]\n",
    "df = df.sort_values('pred').iloc[::-1]\n",
    "df"
   ]
  },
  {
   "cell_type": "markdown",
   "metadata": {},
   "source": [
    "Алгоритм:\n",
    "\n",
    "* Нарисуем единичный квадрат. Разобьём его на n блоков по вертикали и m блоков по горизонтали, где (n -- число нулей, m -- число единиц среди меток классов). \n",
    "* Как и в предыдущем алгоритме, отсортируем наши объекты по pred.\n",
    "* Теперь будем просматривать строки таблицы сверху вниз и прорисовывать на сетке линии, переходя их одного узла в другой.\n",
    "* Если значение метки класса в просматриваемой строке 1, то делаем шаг вверх; если 0, то делаем шаг вправо.\n",
    "* Если у нескольких объектов значения оценок равны, то мы делаем шаг в точку, которая на a блоков выше и b блоков правее, где a – число единиц в группе объектов с одним значением метки, b – число нулей в ней. Имеено эта деталь позволяет избежать проблемы, которая была описана в предыдущем блоке.\n",
    "\n",
    "Детальный разбор этого метода можно найти [здесь](https://dyakonov.org/2017/07/28/auc-roc-%D0%BF%D0%BB%D0%BE%D1%89%D0%B0%D0%B4%D1%8C-%D0%BF%D0%BE%D0%B4-%D0%BA%D1%80%D0%B8%D0%B2%D0%BE%D0%B9-%D0%BE%D1%88%D0%B8%D0%B1%D0%BE%D0%BA/). Нам же важно понять, почему данный алгоритм эквивалентен первой процедуре.  На самом деле, это легко продемонстрировать при помощи матрицы, которую мы рассматривали выше. Она в точности повторяет ROC-кривую. Продемонстрируем это:"
   ]
  },
  {
   "cell_type": "code",
   "execution_count": 107,
   "metadata": {},
   "outputs": [],
   "source": [
    "def PlotConnMatrix0_5_rotate(df, is_show=True):\n",
    "    one = list(df[df['label'] == 1]['pred'].values)[::-1]\n",
    "    zero = list(df[df['label'] == 0]['pred'].values)[::-1]\n",
    "    connections = np.zeros((len(one), len(zero)))\n",
    "    for i in range(len(one)):\n",
    "        for j in range(len(zero)):\n",
    "            if zero[j] < one[i]:\n",
    "                connections[i, len(zero)-1-j] = 1\n",
    "            if zero[j] == one[i]:\n",
    "                connections[i, len(zero)-1-j] = 0.5\n",
    "    connections = pd.DataFrame(connections, index=[str(x)[:4] for x in one], columns=[str(x)[:4] for x in zero])\n",
    "\n",
    "    if is_show:\n",
    "        colors = ((0.25, 0.25, 0.25), (.5, .5, .5), (.8, .8, .8))\n",
    "        cmap = LinearSegmentedColormap.from_list('Custom', colors, len(colors))\n",
    "        ax = sns.heatmap(connections, linewidth=0.5, cmap=cmap)\n",
    "        plt.yticks(rotation=0, fontsize=fontsize)\n",
    "        plt.xticks(fontsize=fontsize)\n",
    "        plt.ylabel('Нулевые метки', fontsize=fontsize)\n",
    "        plt.xlabel('Единичные метки', fontsize=fontsize)\n",
    "        colorbar = ax.collections[0].colorbar\n",
    "        colorbar.set_ticks([0.25, 0.5, 0.75])\n",
    "        colorbar.set_ticklabels(['Нет связи', 'Связь 0.5', 'Есть связь'])\n",
    "    return connections\n",
    "\n",
    "\n",
    "def PlotROC_curve(df):\n",
    "    y_step = 1. / df[df['label'] == 1].shape[0]\n",
    "    x_step = 1. / df[df['label'] == 0].shape[0]\n",
    "\n",
    "    x = 0\n",
    "    x_prev = 0\n",
    "    y = 0\n",
    "    y_prev = 0\n",
    "    prev_pred = -1\n",
    "    roc_curve_x = [x_prev]\n",
    "    roc_curve_y = [y_prev]\n",
    "    auc_roc = 0\n",
    "    for row in df.iterrows():\n",
    "        if prev_pred != row[1]['pred']:\n",
    "            \n",
    "            roc_curve_x.append(x)\n",
    "            roc_curve_y.append(y)\n",
    "            auc_roc += (x - x_prev) * (y + y_prev) * 0.5\n",
    "            \n",
    "            x_prev = x\n",
    "            y_prev = y\n",
    "        if row[1]['label'] == 1:\n",
    "            y = y + y_step\n",
    "        else:\n",
    "            x = x + x_step\n",
    "        prev_pred = row[1]['pred']\n",
    "    \n",
    "    roc_curve_x.append(x)\n",
    "    roc_curve_y.append(y)\n",
    "    auc_roc += (x - x_prev) * (y + y_prev) * 0.5\n",
    "    \n",
    "    plt.plot(roc_curve_x, roc_curve_y, 'r-')\n",
    "    plt.fill_between(x=roc_curve_x, y1=roc_curve_y, y2=[0] * len(roc_curve_x), color=(0.5,0.5,0.5))\n",
    "    plt.fill_between(x=roc_curve_x, y1=[1] * len(roc_curve_x), y2=roc_curve_y, color=(0.25,0.25,0.25))\n",
    "    plt.grid()\n",
    "    plt.xlabel('FPR', fontsize=fontsize)\n",
    "    plt.ylabel('TPR', fontsize=fontsize)\n",
    "    plt.xticks([float(str(val)[:4]) for val in list(np.arange(0, 1, x_step))], fontsize=fontsize)\n",
    "    plt.yticks([float(str(val)[:4]) for val in list(np.arange(0, 1, y_step))], fontsize=fontsize)\n",
    "    plt.title('ROC-curve', fontsize=fontsize)\n",
    "    plt.legend(['ROC-curve', 'AUC-ROC'])\n",
    "    return auc_roc\n",
    "    \n",
    "auc_roc = PlotROC_curve(df)\n",
    "plt.figure()\n",
    "PlotConnMatrix0_5(df)\n",
    "plt.title('Матрица связей', fontsize=fontsize);\n",
    "plt.figure()\n",
    "PlotConnMatrix0_5_rotate(df)\n",
    "plt.title('Матрица связей (повёрнутая)', fontsize=fontsize);\n",
    "auc_roc"
   ]
  },
  {
   "cell_type": "markdown",
   "metadata": {},
   "source": [
    "Как легко наблюдать, ROC-кривая и контур, который образуют клетки матрицы (если её повернуть по часовой стрелке) совпадают с точностью до одной одной связи-0.5. Она отвечает той части ROC-кривой, которая идёт под наклоном.\n",
    "\n",
    "Фактически, и в том, и в другом случае нам требуется вычислить \"площадь\". В одном случае она называется площадью под кривой. В другом случае она вычисляется при помощи подсчёта числа клеток. Если во втором случае количество клеток нормировать на их общее число (что мы и делаем, рассчитывая дробь $\\dfrac{X}{Y}$ выше), то получим ровно то, что и в случае ROC-кривой.\n",
    "\n",
    "**Замечание**: с вычислительной точки зрения, разумеется, намного эффективнее второй способ вычисления. Его алгоритмическая сложность равна $O(n)$, где $n$ -- число объектов в выборке. Второй способ выполняется за $O(n^2)$. С точки зрения понимания алгоритма, следует обратиться к первому. Для того, чтобы убедиться в том, что есть осознание, что к чему, лучше, конечно, провести мысленно или письменно соответствие между обоими способами вычисления меры."
   ]
  },
  {
   "cell_type": "markdown",
   "metadata": {},
   "source": [
    "# Бинарный случай AUC-ROC\n",
    "\n",
    "Поскольку я довольно долго разбирался с бинарным случаем для AUC-ROC, то я решил вынести его в отдельный блок. \n",
    "\n",
    "Выше обсуждалось, что AUC-ROC не зависит от \"порога бинаризации\", в случае, если конкретный алгоритм выдаёт оценки принадлежности к классам. AUC-ROC агрегирует их в себе. При этом, в процессе вычисления AUC-ROC, мы перебираем все пороги (они равны оценкам, которые выдал алгоритм). На самом деле не то, чтобы все, а только те, которые влияют на TPR и FPR. Давайте вернёмся к самому первому рассмотренному нами примеру:"
   ]
  },
  {
   "cell_type": "code",
   "execution_count": 95,
   "metadata": {},
   "outputs": [
    {
     "data": {
      "text/html": [
       "<div>\n",
       "<style scoped>\n",
       "    .dataframe tbody tr th:only-of-type {\n",
       "        vertical-align: middle;\n",
       "    }\n",
       "\n",
       "    .dataframe tbody tr th {\n",
       "        vertical-align: top;\n",
       "    }\n",
       "\n",
       "    .dataframe thead th {\n",
       "        text-align: right;\n",
       "    }\n",
       "</style>\n",
       "<table border=\"1\" class=\"dataframe\">\n",
       "  <thead>\n",
       "    <tr style=\"text-align: right;\">\n",
       "      <th></th>\n",
       "      <th>pred</th>\n",
       "      <th>label</th>\n",
       "    </tr>\n",
       "  </thead>\n",
       "  <tbody>\n",
       "    <tr>\n",
       "      <th>4</th>\n",
       "      <td>0.990110</td>\n",
       "      <td>1</td>\n",
       "    </tr>\n",
       "    <tr>\n",
       "      <th>3</th>\n",
       "      <td>0.628480</td>\n",
       "      <td>0</td>\n",
       "    </tr>\n",
       "    <tr>\n",
       "      <th>8</th>\n",
       "      <td>0.418399</td>\n",
       "      <td>1</td>\n",
       "    </tr>\n",
       "    <tr>\n",
       "      <th>1</th>\n",
       "      <td>0.370242</td>\n",
       "      <td>0</td>\n",
       "    </tr>\n",
       "    <tr>\n",
       "      <th>7</th>\n",
       "      <td>0.258314</td>\n",
       "      <td>1</td>\n",
       "    </tr>\n",
       "    <tr>\n",
       "      <th>9</th>\n",
       "      <td>0.242318</td>\n",
       "      <td>0</td>\n",
       "    </tr>\n",
       "    <tr>\n",
       "      <th>6</th>\n",
       "      <td>0.242318</td>\n",
       "      <td>1</td>\n",
       "    </tr>\n",
       "    <tr>\n",
       "      <th>2</th>\n",
       "      <td>0.242318</td>\n",
       "      <td>1</td>\n",
       "    </tr>\n",
       "    <tr>\n",
       "      <th>5</th>\n",
       "      <td>0.130588</td>\n",
       "      <td>1</td>\n",
       "    </tr>\n",
       "    <tr>\n",
       "      <th>0</th>\n",
       "      <td>0.046041</td>\n",
       "      <td>0</td>\n",
       "    </tr>\n",
       "  </tbody>\n",
       "</table>\n",
       "</div>"
      ],
      "text/plain": [
       "       pred  label\n",
       "4  0.990110      1\n",
       "3  0.628480      0\n",
       "8  0.418399      1\n",
       "1  0.370242      0\n",
       "7  0.258314      1\n",
       "9  0.242318      0\n",
       "6  0.242318      1\n",
       "2  0.242318      1\n",
       "5  0.130588      1\n",
       "0  0.046041      0"
      ]
     },
     "execution_count": 95,
     "metadata": {},
     "output_type": "execute_result"
    }
   ],
   "source": [
    "n = 10\n",
    "np.random.seed(42 * 2)\n",
    "df = pd.DataFrame(index=range(n))\n",
    "df['pred'] = np.random.rand(n)\n",
    "df['label'] = np.uint(np.random.rand(n) > 0.5)\n",
    "\n",
    "df['pred'].at[6] = df['pred'].loc[2]\n",
    "df['pred'].at[9] = df['pred'].loc[2]\n",
    "df = df.sort_values('pred').iloc[::-1]\n",
    "df"
   ]
  },
  {
   "cell_type": "markdown",
   "metadata": {},
   "source": [
    "Построим ROC-curve и рассмотрим её детально. Проделаем следующий эксперимент: будем рассматривать каждую точку в ROC-curve и одновременно строить матрицу ошибок и на основе неё будем вычислять TPR и FPR:"
   ]
  },
  {
   "cell_type": "code",
   "execution_count": 108,
   "metadata": {},
   "outputs": [],
   "source": [
    "err = pd.DataFrame(index=['Pred 1', 'Pred 0'], columns=['Label 1', 'Label 0'])\n",
    "err['Label 1'] = ['TP', 'FN']\n",
    "err['Label 0'] = ['FP', 'TN']\n",
    "PlotROC_curve(df);\n",
    "err"
   ]
  },
  {
   "cell_type": "markdown",
   "metadata": {},
   "source": [
    "Давайте ручками построим ROC-curve. Стартуем из точки $(0, 0)$. Этой точке соответствует объект с id=4 (он же первый в отсортированной выше таблице). В таком случае, неявно мы задаём порог бинаризации, равный $0.990110 + \\epsilon$, где $\\epsilon > 0$ (т.е. мы выбираем порог больший, чем $0.990110$). Тогда рассчитаем матрицу ошибок, TPR, FPR и продемонстрируем бинаризованую по этому порогу таблицу:"
   ]
  },
  {
   "cell_type": "code",
   "execution_count": 109,
   "metadata": {},
   "outputs": [],
   "source": [
    "def BinaryErrMatrix(df):\n",
    "    TP = df[(df['pred_bin'] == df['label']) & (df['label'] == 1)].shape[0]\n",
    "    TN = df[(df['pred_bin'] == df['label']) & (df['label'] == 0)].shape[0]\n",
    "    FP = df[(df['pred_bin'] != df['label']) & (df['label'] == 1)].shape[0]\n",
    "    FN = df[(df['pred_bin'] != df['label']) & (df['label'] == 0)].shape[0]\n",
    "    err = pd.DataFrame(index=['Pred 1', 'Pred 0'], columns=['Label 1', 'Label 0'])\n",
    "    err['Label 1'] = [TP, FP]\n",
    "    err['Label 0'] = [FN, TN]\n",
    "    return err\n",
    "\n",
    "df_t = df.copy(deep=True)\n",
    "df_t['pred_bin'] = (df['pred'] > df['pred'].iloc[0]).astype(np.uint)\n",
    "\n",
    "err = BinaryErrMatrix(df_t)\n",
    "rate = err.loc['Pred 1'] / err.sum()\n",
    "rate.index = ['TPR', 'FPR']\n",
    "print(rate)\n",
    "\n",
    "PlotROC_curve(df)\n",
    "plt.plot(0., 0., 'bo', markersize=18)\n",
    "df_t"
   ]
  },
  {
   "cell_type": "code",
   "execution_count": 110,
   "metadata": {},
   "outputs": [],
   "source": [
    "err"
   ]
  },
  {
   "cell_type": "markdown",
   "metadata": {},
   "source": [
    "Идём дальше. Шагаем в точку $(0; 0.16)$. Этой точке соответствует объект с id=3 (он же второй в отсортированной выше таблице). В таком случае, неявно мы задаём порог бинаризации, равный $0.628480 + \\epsilon$, где $\\epsilon > 0$ (т.е. мы выбираем порог больший, чем $0.628480$). Тогда рассчитаем матрицу ошибок, TPR, FPR и продемонстрируем бинаризованую по этому порогу таблицу:"
   ]
  },
  {
   "cell_type": "code",
   "execution_count": 111,
   "metadata": {},
   "outputs": [],
   "source": [
    "df_t = df.copy(deep=True)\n",
    "df_t['pred_bin'] = (df['pred'] > df['pred'].iloc[1]).astype(np.uint)\n",
    "\n",
    "err = BinaryErrMatrix(df_t)\n",
    "rate = err.loc['Pred 1'] / err.sum()\n",
    "rate.index = ['TPR', 'FPR']\n",
    "print(rate)\n",
    "\n",
    "PlotROC_curve(df)\n",
    "plt.plot(0., 0.16, 'bo', markersize=18)\n",
    "\n",
    "df_t"
   ]
  },
  {
   "cell_type": "code",
   "execution_count": null,
   "metadata": {},
   "outputs": [],
   "source": [
    "err"
   ]
  },
  {
   "cell_type": "markdown",
   "metadata": {},
   "source": [
    "Шагаем в точку $(0.25; 0.16)$. Этой точке соответствует объект с под id=8 (он же третий в отсортированной выше таблице). В таком случае, неявно мы задаём порог бинаризации, равный $0.418399 + \\epsilon$, где $\\epsilon > 0$ (т.е. мы выбираем порог больший, чем $0.418399$). Тогда рассчитаем матрицу ошибок, TPR, FPR и продемонстрируем бинаризованую по этому порогу таблицу:"
   ]
  },
  {
   "cell_type": "code",
   "execution_count": null,
   "metadata": {},
   "outputs": [],
   "source": [
    "df_t = df.copy(deep=True)\n",
    "df_t['pred_bin'] = (df['pred'] > df['pred'].iloc[2]).astype(np.uint)\n",
    "\n",
    "err = BinaryErrMatrix(df_t)\n",
    "rate = err.loc['Pred 1'] / err.sum()\n",
    "rate.index = ['TPR', 'FPR']\n",
    "print(rate)\n",
    "\n",
    "PlotROC_curve(df)\n",
    "plt.plot(0.25, 0.16, 'bo', markersize=18)\n",
    "\n",
    "df_t"
   ]
  },
  {
   "cell_type": "code",
   "execution_count": null,
   "metadata": {},
   "outputs": [],
   "source": [
    "err"
   ]
  },
  {
   "cell_type": "markdown",
   "metadata": {},
   "source": [
    "Шагаем в точку $(0.25; 0.33)$. Этой точке соответствует объект с под id=1 (он же четвёртый в отсортированной выше таблице). В таком случае, неявно мы задаём порог бинаризации, равный $0.370242 + \\epsilon$, где $\\epsilon > 0$ (т.е. мы выбираем порог больший, чем $0.370242$). Тогда рассчитаем матрицу ошибок, TPR, FPR и продемонстрируем бинаризованую по этому порогу таблицу:"
   ]
  },
  {
   "cell_type": "code",
   "execution_count": null,
   "metadata": {},
   "outputs": [],
   "source": [
    "df_t = df.copy(deep=True)\n",
    "df_t['pred_bin'] = (df['pred'] > df['pred'].iloc[3]).astype(np.uint)\n",
    "\n",
    "err = BinaryErrMatrix(df_t)\n",
    "rate = err.loc['Pred 1'] / err.sum()\n",
    "rate.index = ['TPR', 'FPR']\n",
    "print(rate)\n",
    "\n",
    "PlotROC_curve(df)\n",
    "plt.plot(0.25, 0.33, 'bo', markersize=18)\n",
    "\n",
    "df_t"
   ]
  },
  {
   "cell_type": "code",
   "execution_count": null,
   "metadata": {},
   "outputs": [],
   "source": [
    "err"
   ]
  },
  {
   "cell_type": "markdown",
   "metadata": {},
   "source": [
    "И так далее. Мы можем таким образом построить всю кривую. И просчитать все требуемые значения.\n",
    "\n",
    "Какой вывод отсюда следует? В каждой точке мы используем некоторое пороговое значение для построения кривой. Но кривая этого значения не хранит, если её задавать не параметрически, а в виде:\n",
    "\n",
    "$\\text{ROC-curve}(\\text{FPR})=\\text{TPR}(\\text{FPR})$\n",
    "\n",
    "Если же кривую задать параметрически, то в качестве изменяемого параметра, можно использовать порог бинаризации. Тогда имеем:\n",
    "\n",
    "$\n",
    "\\text{ROC-curve}(p)=\n",
    "\\begin{cases}\n",
    "x(p), & p\\in[0,1] \\\\\n",
    "y(p), & p\\in[0,1]\n",
    "\\end{cases}\n",
    "$\n",
    "\n",
    "Все пороговые значения для данной выборки не нужны в силу дискретности задачи (это видно из построений). Например, значение 0.12345 не нужно, так как его не было в предсказанных значениях и роли оно никакой не сыграет. Следует отметить, что в непрерывном случае, принимаются во внимание все пороговые значения. Об этом будет сказано ниже, в следующем разделе.\n",
    "\n",
    "Теперь давайте построим для каждого порога бинаризации свою ROC-curve. Мы же это можем сделать? Да, конечно. Нам нужно предположить, что наш оцениваемый алгоритм, вместо степеней принадлежности к классам выдаёт точные значения принадлежностей: 1 или 0. В таком случае, ровно также, как и раньше, мы можем построить ROC-curve для каждого порогового значения. Сделаем это:"
   ]
  },
  {
   "cell_type": "code",
   "execution_count": 112,
   "metadata": {},
   "outputs": [],
   "source": [
    "def PlotROC_curve_slice(df_slice, colors, is_draw=True):\n",
    "    legend = []\n",
    "    auc_rocs = []\n",
    "    for ind, df in enumerate(df_slice):\n",
    "        y_step = 1. / df[df['label'] == 1].shape[0]\n",
    "        x_step = 1. / df[df['label'] == 0].shape[0]\n",
    "\n",
    "        x = 0\n",
    "        x_prev = 0\n",
    "        y = 0\n",
    "        y_prev = 0\n",
    "        prev_pred = -1\n",
    "        roc_curve_x = [x_prev]\n",
    "        roc_curve_y = [y_prev]\n",
    "        auc_roc = 0\n",
    "        for row in df.iterrows():\n",
    "            if prev_pred != row[1]['pred']:\n",
    "\n",
    "                roc_curve_x.append(x)\n",
    "                roc_curve_y.append(y)\n",
    "                auc_roc += (x - x_prev) * (y + y_prev) * 0.5\n",
    "\n",
    "                x_prev = x\n",
    "                y_prev = y\n",
    "            if row[1]['label'] == 1:\n",
    "                y = y + y_step\n",
    "            else:\n",
    "                x = x + x_step\n",
    "            prev_pred = row[1]['pred']\n",
    "\n",
    "        roc_curve_x.append(x)\n",
    "        roc_curve_y.append(y)\n",
    "        auc_roc += (x - x_prev) * (y + y_prev) * 0.5\n",
    "\n",
    "        if is_draw:\n",
    "            plt.plot(roc_curve_x, roc_curve_y, colors[ind]+'-')\n",
    "        legend.append('ROC-curve ' + str(ind) + '. AUC-ROC:' + str(auc_roc)[:6])\n",
    "        if ind == 0 and is_draw:\n",
    "            plt.fill_between(x=roc_curve_x, y1=roc_curve_y, y2=[0] * len(roc_curve_x), color=(0.5,0.5,0.5))\n",
    "            plt.fill_between(x=roc_curve_x, y1=[1] * len(roc_curve_x), y2=roc_curve_y, color=(0.25,0.25,0.25))\n",
    "        auc_rocs.append(auc_roc)\n",
    "    \n",
    "    if is_draw:\n",
    "        legend.append('AUC-ROC')\n",
    "        plt.grid(True)\n",
    "        plt.xlabel('FPR', fontsize=fontsize)\n",
    "        plt.ylabel('TPR', fontsize=fontsize)\n",
    "        plt.xticks([float(str(val)[:4]) for val in list(np.arange(0, 1, x_step))], fontsize=fontsize)\n",
    "        plt.yticks([float(str(val)[:4]) for val in list(np.arange(0, 1, y_step))], fontsize=fontsize)\n",
    "        plt.title('ROC-curve', fontsize=fontsize)\n",
    "        plt.legend(legend)\n",
    "    return auc_rocs\n",
    "\n",
    "auc_rocs = []\n",
    "for i in range(1, df.shape[0]):\n",
    "    plt.figure()\n",
    "    df_t = df.copy(deep=True)\n",
    "    df_t['pred'] = (df['pred'] > df['pred'].iloc[i]).astype(np.uint)\n",
    "    df_t = df_t.sort_values('pred').iloc[::-1];\n",
    "    auc_rocs.append(PlotROC_curve_slice([df, df_t], colors=['r', 'b']))"
   ]
  },
  {
   "cell_type": "markdown",
   "metadata": {},
   "source": [
    "В каждой точке, мы можем рассчитать точно значение AUC-ROC для бинарного случая. [Здесь](https://github.com/Dyakonov/PZAD/blob/master/PZAD2018_05_minfunc_08.pdf) и [здесь](https://dyakonov.org/2017/07/28/auc-roc-%D0%BF%D0%BB%D0%BE%D1%89%D0%B0%D0%B4%D1%8C-%D0%BF%D0%BE%D0%B4-%D0%BA%D1%80%D0%B8%D0%B2%D0%BE%D0%B9-%D0%BE%D1%88%D0%B8%D0%B1%D0%BE%D0%BA/) указано, как это сделать:\n",
    "\n",
    "$\\text{AUC-ROC} = \\dfrac{1 - FPR + TPR}{2} = \\dfrac{1}{2}\\Big(\\dfrac{TN}{TN+FP} + \\dfrac{TP}{TP+FN}\\Big)$\n",
    "\n",
    "Если рассмотреть последнюю часть выражения, то можно получить дополнительный смысл меры \"Средняя [полнота](http://bazhenov.me/blog/2012/07/21/classification-performance-evaluation.html) по классам\":\n",
    "\n",
    "$\\text{AUC-ROC} = \\dfrac{1}{2}\\Big(\\dfrac{TN}{TN+FP} + \\dfrac{TP}{TP+FN}\\Big) = \\dfrac{R_0+R_1}{2}$, где\n",
    "\n",
    "$R_1 = \\dfrac{TP}{TP+FN}$, $R_0 = \\dfrac{TN}{TN+FP}$, где $R_0$, $R_1$ -- полнота для класса 0 и класса 1 соответственно.\n",
    "\n",
    "Тогда легко предложить функционал для оптимизации:\n",
    "\n",
    "$\\text{TPR} - \\text{FPR} \\rightarrow \\max$ -- максимизация доли верно угаданных положительных классов и минимизация доли ошибок неправильно угаданных нулевых классов. "
   ]
  },
  {
   "cell_type": "markdown",
   "metadata": {},
   "source": [
    "Вернёмся к последовательности графиков, которые мы получили выше. Различные пороги бинаризации, обеспечивают разные значения бинарного AUC-ROC (средней полноты по классам). На каждом из построенных графиков, мы имели 2 линии. Одна из них едина для всех рисунков (ROC-кривая для не бинаризованной выборки, которая изображена красным цветом). Другая -- бинаризованая (ROC-кривая для различных порогов, которая изображена синим цветом). Площадь под красным графиком константная и не меняется (AUC-ROC имеет постоянное значение). Площадь под синим графиком изменяется в зависимости от величины порога (AUC-ROC имеет изменяется). Построим AUC-ROC от каждого из порогов:"
   ]
  },
  {
   "cell_type": "code",
   "execution_count": null,
   "metadata": {},
   "outputs": [],
   "source": [
    "plt.plot(np.array(auc_rocs)[:, 0], linewidth=5)\n",
    "plt.plot(np.array(auc_rocs)[:, 1], linewidth=5, alpha=0.7)\n",
    "plt.grid(True)\n",
    "plt.xlabel('Номер порогового значения', fontsize=fontsize)\n",
    "plt.ylabel('AUC-ROC', fontsize=fontsize)\n",
    "plt.xticks(fontsize=fontsize)\n",
    "plt.yticks(fontsize=fontsize)\n",
    "plt.legend(['ROC-AUC без бинаризации', 'ROC-AUC с бинаризацией']);"
   ]
  },
  {
   "cell_type": "markdown",
   "metadata": {},
   "source": [
    "Мы видим, что в ряде случаев бинаризация увеличивает значение AUC-ROC. В связи с этим встаёт закономерный вопрос: каким образом подобрать наиболее оптимальный порог так, чтобы AUC-ROC был наибольшим? Очевидное решение заключается в том, чтобы перебрать все пороги и выбрать самый лучший. Давайте сгенерируем достаточно большой набор данных и взглянем на результат:"
   ]
  },
  {
   "cell_type": "code",
   "execution_count": null,
   "metadata": {},
   "outputs": [],
   "source": [
    "n = 100\n",
    "np.random.seed(43 * 2)\n",
    "df = pd.DataFrame(index=range(n))\n",
    "df['pred'] = np.random.random(n)\n",
    "df['label'] = np.uint(np.random.random(n) > 0.5)\n",
    "df = df.sort_values('pred')\n",
    "\n",
    "auc_rocs = []\n",
    "\n",
    "for i in range(1, df.shape[0]):\n",
    "    df_t = df.copy(deep=True)\n",
    "    df_t['pred'] = (df['pred'] > df['pred'].iloc[i]).astype(np.uint)\n",
    "    auc_rocs.append(PlotROC_curve_slice([df, df_t], colors=[], is_draw=False))\n",
    "\n",
    "plt.plot(np.array(auc_rocs)[:, 0], linewidth=5)\n",
    "plt.plot(np.array(auc_rocs)[:, 1], linewidth=5, alpha=0.7)\n",
    "plt.grid(True)\n",
    "plt.xlabel('Номер шага', fontsize=fontsize)\n",
    "plt.ylabel('AUC-ROC', fontsize=fontsize)\n",
    "plt.xticks(fontsize=fontsize)\n",
    "plt.yticks(fontsize=fontsize)\n",
    "plt.legend(['AUC-ROC', 'AUC-ROC для различных порогов бинаризации']);"
   ]
  },
  {
   "cell_type": "markdown",
   "metadata": {},
   "source": [
    "Найдём наилучший порог (в смысле AUC-ROC) для которого $\\text{AUC-ROC}_{bin} > \\text{AUC-ROC}$. Построим ROC-кривую:"
   ]
  },
  {
   "cell_type": "code",
   "execution_count": null,
   "metadata": {},
   "outputs": [],
   "source": [
    "best_threshold_ind = np.argmax(np.array(auc_rocs)[:, 1])\n",
    "best_threshold = df.iloc[best_threshold_ind]['pred']"
   ]
  },
  {
   "cell_type": "code",
   "execution_count": null,
   "metadata": {},
   "outputs": [],
   "source": [
    "def PlotROC_curve_slice(df_slice, colors, is_draw=True):\n",
    "    legend = []\n",
    "    auc_rocs = []\n",
    "    for ind, df in enumerate(df_slice):\n",
    "        y_step = 1. / df[df['label'] == 1].shape[0]\n",
    "        x_step = 1. / df[df['label'] == 0].shape[0]\n",
    "\n",
    "        x = 0\n",
    "        x_prev = 0\n",
    "        y = 0\n",
    "        y_prev = 0\n",
    "        prev_pred = -1\n",
    "        roc_curve_x = [x_prev]\n",
    "        roc_curve_y = [y_prev]\n",
    "        auc_roc = 0\n",
    "        for row in df.iterrows():\n",
    "            if prev_pred != row[1]['pred']:\n",
    "\n",
    "                roc_curve_x.append(x)\n",
    "                roc_curve_y.append(y)\n",
    "                auc_roc += (x - x_prev) * (y + y_prev) * 0.5\n",
    "\n",
    "                x_prev = x\n",
    "                y_prev = y\n",
    "            if row[1]['label'] == 1:\n",
    "                y = y + y_step\n",
    "            else:\n",
    "                x = x + x_step\n",
    "            prev_pred = row[1]['pred']\n",
    "\n",
    "        roc_curve_x.append(x)\n",
    "        roc_curve_y.append(y)\n",
    "        auc_roc += (x - x_prev) * (y + y_prev) * 0.5\n",
    "\n",
    "        if is_draw:\n",
    "            plt.plot(roc_curve_x, roc_curve_y, colors[ind]+'-')\n",
    "        legend.append('ROC-curve ' + str(ind) + '. AUC-ROC:' + str(auc_roc)[:6])\n",
    "        if ind == 0 and is_draw:\n",
    "            plt.fill_between(x=roc_curve_x, y1=roc_curve_y, y2=[0] * len(roc_curve_x), color=(0.5,0.5,0.5))\n",
    "            plt.fill_between(x=roc_curve_x, y1=[1] * len(roc_curve_x), y2=roc_curve_y, color=(0.25,0.25,0.25))\n",
    "        auc_rocs.append(auc_roc)\n",
    "    \n",
    "    if is_draw:\n",
    "        legend.append('AUC-ROC')\n",
    "        plt.grid(True)\n",
    "        plt.xlabel('FPR', fontsize=fontsize)\n",
    "        plt.ylabel('TPR', fontsize=fontsize)\n",
    "        plt.xticks([float(str(val)[:4]) for val in list(np.arange(0, 1, x_step))], fontsize=fontsize)\n",
    "        plt.yticks([float(str(val)[:4]) for val in list(np.arange(0, 1, y_step))], fontsize=fontsize)\n",
    "        plt.title('ROC-curve', fontsize=fontsize)\n",
    "        plt.legend(legend)\n",
    "    return auc_rocs\n",
    "\n",
    "df_t = df.copy(deep=True)\n",
    "df_t['pred'] = (df['pred'] > best_threshold).astype(np.uint)\n",
    "df_t.sort_values('pred')\n",
    "PlotROC_curve_slice([df, df_t], colors=['r', 'b'])\n",
    "plt.xticks([])\n",
    "plt.yticks([])\n",
    "plt.title('Наилучшая бинаризация ROC-curve (в смысле AUC-ROC)');\n",
    "plt.grid()"
   ]
  },
  {
   "cell_type": "markdown",
   "metadata": {},
   "source": [
    "Давайте проанализируем, почему мы получаем выигрыш при бинаризации. Легко заметить, что линия, соответствующая порогу бинаризации в некоторых местах пересекает красную линию. Часть площади, которая заметается красной линией, не заметается синей линией (обозначим её $R$). И наоборот, часть площади, которая заметается синей линией, не заметается красной линией (обозначим её $B$). В таком случае, нам требуется максимизировать:\n",
    "\n",
    "$B - R \\rightarrow \\max$\n",
    "\n",
    "Тогда можно получить более общую постановку задачи, когда бинаризация не представляет интерес и важна оптимизация самой метрики AUC-ROC. В этом случае, может оказаться эффективным найти несколько точек, которые следует объединить в группы и присвоить им одинаковые ранги:"
   ]
  },
  {
   "cell_type": "code",
   "execution_count": null,
   "metadata": {},
   "outputs": [],
   "source": [
    "def PlotROC_curve_xy(df):\n",
    "    y_step = 1. / df[df['label'] == 1].shape[0]\n",
    "    x_step = 1. / df[df['label'] == 0].shape[0]\n",
    "\n",
    "    x = 0\n",
    "    x_prev = 0\n",
    "    y = 0\n",
    "    y_prev = 0\n",
    "    prev_pred = -1\n",
    "    roc_curve_x = [x_prev]\n",
    "    roc_curve_y = [y_prev]\n",
    "    auc_roc = 0\n",
    "    for row in df.iterrows():\n",
    "        if prev_pred != row[1]['pred']:\n",
    "            \n",
    "            roc_curve_x.append(x)\n",
    "            roc_curve_y.append(y)\n",
    "            \n",
    "            x_prev = x\n",
    "            y_prev = y\n",
    "        if row[1]['label'] == 1:\n",
    "            y = y + y_step\n",
    "        else:\n",
    "            x = x + x_step\n",
    "        prev_pred = row[1]['pred']\n",
    "    \n",
    "    roc_curve_x.append(x)\n",
    "    roc_curve_y.append(y)\n",
    "    \n",
    "    return roc_curve_x, roc_curve_y\n",
    "\n",
    "x, y = PlotROC_curve_xy(df)\n",
    "plt.plot(x, y, 'r-')\n",
    "plt.fill_between(x=x, y1=y, y2=[0] * len(x), color=(0.5,0.5,0.5))\n",
    "plt.fill_between(x=x, y1=[1] * len(x), y2=y, color=(0.25,0.25,0.25))\n",
    "plt.xlabel('FPR', fontsize=fontsize)\n",
    "plt.ylabel('TPR', fontsize=fontsize)\n",
    "plt.title('ROC-curve', fontsize=fontsize)\n",
    "start0 = 16\n",
    "finish0 = 33\n",
    "start1 = 42\n",
    "finish1 = 75\n",
    "plt.plot(x[:start0] + x[finish0:start1] + x[finish1:], y[:start0] + y[finish0:start1] + y[finish1:], 'b')\n",
    "plt.legend(['ROC-curve', 'Grouped ROC-curve']);"
   ]
  },
  {
   "cell_type": "markdown",
   "metadata": {},
   "source": [
    "При грамотно подобранных порогах, можно существенно повысить значение метрики. Но нужно понимать, что если это делать без ансамблирования, то мы с большой вероятностью переучимся.\n",
    "\n",
    "В этом разделе для меня остаются открытыми следующие вопросы:\n",
    "\n",
    "* Как выбирать пороги и как производить объединение значений\n",
    "* Каким образом связана ROC-кривая общего вида со средней полнотой по классам и функционалом $\\text{TPR} - \\text{FPR} \\rightarrow \\max$\n",
    "* Каким образом связана сгруппированная ROC-кривая со средней полнотой по классам и функционалом $\\text{TPR} - \\text{FPR} \\rightarrow \\max$\n",
    "* Что означают кривые, у которых есть явные ямы и горбы (очевидно, это значит, что в для определённых порогов качество упорядочивания падает)"
   ]
  },
  {
   "cell_type": "markdown",
   "metadata": {},
   "source": [
    "# Взвешенный AUC-ROC для несбалансированных классов в бинарном случае\n",
    "\n",
    "Рассмотрим бинарный случай AUC-ROC. В прошлом разделе мы получили запись вида:\n",
    "\n",
    "$\\text{AUC-ROC} = \\dfrac{R_0 + R_1}{2}$\n",
    "\n",
    "Тогда, коль скоро, размеры классов не равны, можем, взвесить $R_0$ и $R_1$ следующим образом. Пусть $M_0$, $M_1$ -- мощность 0 и 1 классов соответственно. Тогда, можем ввести поправочные коэффициенты:\n",
    "\n",
    "$\\alpha_0 = \\dfrac{M_1}{M_0 + M_1}$, $\\alpha_1 = \\dfrac{M_0}{M_0 + M_1}$\n",
    "\n",
    "Получим \n",
    "\n",
    "$\\text{AUC-ROC}_{\\text{weight}} = \\dfrac{\\alpha_0R_0 + \\alpha_1R_1}{2}$\n",
    "\n",
    "В данном случае остаётся вопрос: \n",
    "* Возможно ли осуществить аналогичное преобразование для произвольного случая, а не только для бинарного"
   ]
  },
  {
   "cell_type": "markdown",
   "metadata": {},
   "source": [
    "# Оптимизация AUC-ROC в узлах дерева"
   ]
  },
  {
   "cell_type": "markdown",
   "metadata": {},
   "source": [
    "[Предлагается](https://github.com/Dyakonov/PZAD/blob/master/PZAD2018_05_minfunc_08.pdf) выбрать оптимизировать функционал качества в узлах дерева, который построен на мере AUC-ROC:\n",
    "\n",
    "$|m_1 \\cdot n - n_1 \\cdot m| \\rightarrow \\max$,\n",
    "\n",
    "при этом, m_1, n_1 -- доля объектов класса 1 и 0 в левом поддереве/правом поддереве. Из выкладок следует, что функционал зависит только от одного поддерева. Для этого реализуем дерево, чтобы явно задавать в узлах критерий качества. Для того, чтобы понять качество работы, сравним его с классическим критерием информативности Джини."
   ]
  },
  {
   "cell_type": "code",
   "execution_count": null,
   "metadata": {},
   "outputs": [],
   "source": [
    "def djini(split):\n",
    "    if float(len(split)) == 0:\n",
    "        p_plus = np.Inf\n",
    "    else:\n",
    "        p_plus = np.sum(split == 0) / float(len(split))\n",
    "    return 2 * p_plus * (1 - p_plus)\n",
    "\n",
    "\n",
    "def delta_information(not_split, split1, split0):\n",
    "    djini_value = djini(not_split) - \\\n",
    "                  len(split1) / float(len(not_split)) * djini(split1) - \\\n",
    "                  len(split0) / float(len(not_split)) * djini(split0)\n",
    "    if np.isnan(djini_value) or np.isinf(djini_value):\n",
    "        return 0\n",
    "    else:\n",
    "        return djini_value\n",
    "\n",
    "\n",
    "def roc_metric_split_1(not_split, split1, split0):\n",
    "    djini_value = np.abs(np.sum(not_split) * np.sum(1 - split1) - np.sum(1 - not_split) * np.sum(split1))\n",
    "    if np.isnan(djini_value) or np.isinf(djini_value):\n",
    "        return 0\n",
    "    else:\n",
    "        return djini_value\n",
    "    \n",
    "\n",
    "\n",
    "def roc_metric_split_0(not_split, split1, split0):\n",
    "    djini_value = np.abs(np.sum(not_split) * np.sum(1 - split0) - np.sum(1 - not_split) * np.sum(split0))\n",
    "    if np.isnan(djini_value) or np.isinf(djini_value):\n",
    "        return 0\n",
    "    else:\n",
    "        return djini_value\n",
    "\n",
    "\n",
    "class Tree:\n",
    "    def __init__(self, loss=delta_information, threshold=0.5, max_depth=5, min_leaf_sample=10):\n",
    "        self.max_depth = max_depth\n",
    "        self.min_leaf_sample = min_leaf_sample\n",
    "        self.threshold = threshold\n",
    "        self.loss = loss\n",
    "        self.root = Node(residual_depth=max_depth, min_leaf_sample=min_leaf_sample, threshold=threshold, loss=loss)\n",
    "\n",
    "    def depth_search(self, current_node, x):\n",
    "        if current_node.right_node is None or current_node.left_node is None:\n",
    "            return current_node.class_label\n",
    "        value = x[current_node.optimal_feature_index]\n",
    "        predicted_value = current_node.optimal_clf.predict_proba([value])\n",
    "        if predicted_value[0] > self.threshold:\n",
    "            class_label = self.depth_search(current_node.left_node, x)\n",
    "        else:\n",
    "            class_label = self.depth_search(current_node.right_node, x)\n",
    "        return class_label\n",
    "\n",
    "    def lr_search(self, current_node, x, y, depth):\n",
    "        y_left, x_left, y_right, x_right = current_node.splitter(x, y)\n",
    "        current_node.class_label = np.uint8(np.mean(y) > self.threshold)\n",
    "        if not (y_left is None or x_left is None or y_right is None or x_right is None):\n",
    "            current_node.left_node = Node(residual_depth=self.max_depth - depth, min_leaf_sample=self.min_leaf_sample,\n",
    "                                          threshold=self.threshold, loss=self.loss)\n",
    "            current_node.right_node = Node(residual_depth=self.max_depth - depth, min_leaf_sample=self.min_leaf_sample,\n",
    "                                           threshold=self.threshold, loss=self.loss)\n",
    "            self.lr_search(current_node.left_node, x_left, y_left, depth + 1)\n",
    "            self.lr_search(current_node.right_node, x_right, y_right, depth + 1)\n",
    "\n",
    "    def fit(self, x, y):\n",
    "        self.lr_search(self.root, x, y, 0)\n",
    "        return self\n",
    "\n",
    "    def predict(self, x):\n",
    "        answer = []\n",
    "        for row in x:\n",
    "            class_label = self.depth_search(self.root, row)\n",
    "            answer.append(class_label)\n",
    "        return np.array(answer)\n",
    "\n",
    "    def score(self, x, y):\n",
    "        return roc_auc_score(y, self.predict(x))\n",
    "\n",
    "\n",
    "class LinearClassifier:\n",
    "    def __init__(self, loss):\n",
    "        self.best_t = None\n",
    "        self.loss = loss\n",
    "\n",
    "    def fit(self, x, y):\n",
    "        values = np.unique(x)\n",
    "        self.best_t = values[0]\n",
    "        best_value = self.loss(y, y[x > self.best_t], y[x <= self.best_t])\n",
    "        for t in values[1:]:\n",
    "            cur_value = self.loss(y, y[x > t], y[x <= t])\n",
    "            if best_value < cur_value:\n",
    "                best_value = cur_value\n",
    "                self.best_t = t\n",
    "\n",
    "    def predict_proba(self, x):\n",
    "        return np.uint(x > self.best_t)\n",
    "\n",
    "\n",
    "class Node:\n",
    "    def __init__(self, residual_depth, min_leaf_sample, threshold=0.5, loss=delta_information):\n",
    "        self.left_node = None\n",
    "        self.right_node = None\n",
    "        self.optimal_clf = None\n",
    "        self.optimal_loss = None\n",
    "        self.residual_depth = residual_depth\n",
    "        self.min_leaf_sample = min_leaf_sample\n",
    "        self.threshold = threshold\n",
    "        self.class_label = None\n",
    "        self.optimal_feature_index = None\n",
    "        self.class_0 = None\n",
    "        self.class_1 = None\n",
    "        self.loss = loss\n",
    "\n",
    "    def splitter(self, features, classes):\n",
    "        optimal_left_set = None\n",
    "        optimal_right_set = None\n",
    "        self.class_0 = np.sum(np.uint8(classes == 0))\n",
    "        self.class_1 = np.sum(np.uint8(classes == 1))\n",
    "        if len(classes) < self.min_leaf_sample or self.residual_depth == 0 or self.class_1 == 0 or self.class_0 == 0:\n",
    "            return None, None, None, None\n",
    "        for index in range(0, len(features[0, :])):\n",
    "            clf = LinearClassifier(self.loss)\n",
    "            x = features[:, index]\n",
    "            clf.fit(x, classes)\n",
    "            class_labels = clf.predict_proba(x) > self.threshold\n",
    "            left_set = np.where(class_labels)\n",
    "            right_set = np.where(1 - class_labels)\n",
    "            loss = self.loss(classes, classes[left_set], classes[right_set])\n",
    "            if self.optimal_loss is None or loss > self.optimal_loss:\n",
    "                self.optimal_loss = loss\n",
    "                self.optimal_clf = clf\n",
    "                optimal_left_set = left_set\n",
    "                optimal_right_set = right_set\n",
    "                self.optimal_feature_index = index\n",
    "        if self.optimal_loss > 0:\n",
    "            return classes[optimal_left_set], features[optimal_left_set], \\\n",
    "                   classes[optimal_right_set], features[optimal_right_set]\n",
    "        else:\n",
    "            return None, None, None, None"
   ]
  },
  {
   "cell_type": "markdown",
   "metadata": {},
   "source": [
    "Проверим адекватность реализации на модельной задачи с двумя нормальными распределениями в 100 элементов с указанным функционалом:"
   ]
  },
  {
   "cell_type": "code",
   "execution_count": null,
   "metadata": {},
   "outputs": [],
   "source": [
    "n = 100\n",
    "seed = 42\n",
    "features = 2\n",
    "v = 2.4\n",
    "np.random.seed(seed)\n",
    "\n",
    "def get_grid(data):\n",
    "    x_min, x_max = data[:, 0].min() - 1, data[:, 0].max() + 1\n",
    "    y_min, y_max = data[:, 1].min() - 1, data[:, 1].max() + 1\n",
    "    return np.meshgrid(np.arange(x_min, x_max, 0.01), np.arange(y_min, y_max, 0.01))\n",
    "\n",
    "x = np.random.normal(size=(n, features)) + v * np.random.rand(features)\n",
    "y = np.zeros(n)\n",
    "\n",
    "x = np.r_[x, np.random.normal(size=(n, features))] + v * np.random.rand(features)\n",
    "y = np.r_[y, np.ones(n)]\n",
    "\n",
    "plt.rcParams['figure.figsize'] = (10, 8)\n",
    "plt.scatter(x[:, 0], x[:, 1], c=y, s=100, cmap='autumn', edgecolors='black', linewidth=1.5)\n",
    "plt.plot(range(-2,5), range(4,-3,-1))\n",
    "plt.title('Данные');"
   ]
  },
  {
   "cell_type": "markdown",
   "metadata": {},
   "source": [
    "Проверим адекватность реализации на модельной задачи с двумя нормальными распределениями в 100 элементов с критерием информативности Джини:"
   ]
  },
  {
   "cell_type": "code",
   "execution_count": null,
   "metadata": {},
   "outputs": [],
   "source": [
    "max_depth = 10\n",
    "min_leaf_sample = 5\n",
    "\n",
    "tree = Tree(max_depth=max_depth, min_leaf_sample=min_leaf_sample, loss=roc_metric_split_1)\n",
    "tree.fit(x, y)\n",
    "\n",
    "print('AUC-ROC:', tree.score(x, y))\n",
    "\n",
    "xx, yy = get_grid(x)\n",
    "predicted = tree.predict(np.c_[xx.ravel(), yy.ravel()]).reshape(xx.shape)\n",
    "plt.pcolormesh(xx, yy, predicted, cmap='autumn')\n",
    "plt.scatter(x[:, 0], x[:, 1], c=y, s=100, cmap='autumn', edgecolors='black', linewidth=1.5)\n",
    "plt.title('Бинарный AUC-ROC');"
   ]
  },
  {
   "cell_type": "code",
   "execution_count": null,
   "metadata": {},
   "outputs": [],
   "source": [
    "tree = Tree(max_depth=max_depth, min_leaf_sample=min_leaf_sample, loss=delta_information)\n",
    "tree.fit(x, y)\n",
    "\n",
    "xx, yy = get_grid(x)\n",
    "predicted = tree.predict(np.c_[xx.ravel(), yy.ravel()]).reshape(xx.shape)\n",
    "plt.pcolormesh(xx, yy, predicted, cmap='autumn')\n",
    "plt.scatter(x[:, 0], x[:, 1], c=y, s=100, cmap='autumn', edgecolors='black', linewidth=1.5)\n",
    "print('AUC-ROC:', tree.score(x, y))\n",
    "plt.title('Критерий Джини');"
   ]
  },
  {
   "cell_type": "markdown",
   "metadata": {},
   "source": [
    "Как видим, существенной разницы не наблюдается, если смотреть на разделяющую поверхность. Проделаем два эксперимента (для двух конфигураций деревьев):"
   ]
  },
  {
   "cell_type": "code",
   "execution_count": null,
   "metadata": {},
   "outputs": [],
   "source": [
    "max_depth = 20\n",
    "min_leaf_sample = 10\n",
    "\n",
    "roc_score = []\n",
    "djini_score = []\n",
    "n = 500\n",
    "v = 2.4\n",
    "features = 2\n",
    "for seed in tqdm_notebook(range(30)):\n",
    "    np.random.seed(seed)\n",
    "    x = np.random.normal(size=(n, features)) + v * np.random.rand(features)\n",
    "    y = np.zeros(n)\n",
    "\n",
    "    # добавляем второй класс\n",
    "    x = np.r_[x, np.random.normal(size=(n, features))] + v * np.random.rand(features)\n",
    "    y = np.r_[y, np.ones(n)]\n",
    "    \n",
    "    np.random.seed(seed)\n",
    "    tree = Tree(max_depth=max_depth, min_leaf_sample=min_leaf_sample, loss=roc_metric_split)\n",
    "    tree.fit(x, y)\n",
    "    roc_score.append(tree.score(x, y))\n",
    "    np.random.seed(seed)\n",
    "    tree = Tree(max_depth=max_depth, min_leaf_sample=min_leaf_sample, loss=delta_information)\n",
    "    tree.fit(x, y)\n",
    "    djini_score.append(tree.score(x, y))\n",
    "\n",
    "max_depth = 10\n",
    "min_leaf_sample = print('Джини', np.mean(djini_score), '. AUC-ROC:', np.mean(roc_score))"
   ]
  },
  {
   "cell_type": "code",
   "execution_count": null,
   "metadata": {},
   "outputs": [],
   "source": [
    "max_depth = 10\n",
    "min_leaf_sample = 5\n",
    "\n",
    "roc_score = []\n",
    "djini_score = []\n",
    "n = 500\n",
    "v = 2.4\n",
    "features = 2\n",
    "for seed in tqdm_notebook(range(30)):\n",
    "    np.random.seed(seed)\n",
    "    x = np.random.normal(size=(n, features)) + v * np.random.rand(features)\n",
    "    y = np.zeros(n)\n",
    "\n",
    "    # добавляем второй класс\n",
    "    x = np.r_[x, np.random.normal(size=(n, features))] + v * np.random.rand(features)\n",
    "    y = np.r_[y, np.ones(n)]\n",
    "    \n",
    "    np.random.seed(seed)\n",
    "    tree = Tree(max_depth=max_depth, min_leaf_sample=min_leaf_sample, loss=roc_metric_split)\n",
    "    tree.fit(x, y)\n",
    "    roc_score.append(tree.score(x, y))\n",
    "    np.random.seed(seed)\n",
    "    tree = Tree(max_depth=max_depth, min_leaf_sample=min_leaf_sample, loss=delta_information)\n",
    "    tree.fit(x, y)\n",
    "    djini_score.append(tree.score(x, y))\n",
    "    \n",
    "print('Джини', np.mean(djini_score), '. AUC-ROC:', np.mean(roc_score))"
   ]
  },
  {
   "cell_type": "markdown",
   "metadata": {},
   "source": [
    "Если провести 30 экспериментов и посмотреть на результаты, то по средним значениям AUC-ROC, можно выдвинуть несколько предположений: \n",
    "\n",
    "* При малых глубинах деревьев эффективнее себя показывает бинарный критерий, максимизирующий AUC-ROC.\n",
    "* При увеличении глубины деревьев, критерий информативности Джини даёт лучший результат.\n",
    "\n",
    "Не следует забывать, что в данных экспериментах, разница между оценками может быть статистически не значимой. В связи с этим требуется детальное исследование данного вопроса."
   ]
  },
  {
   "cell_type": "markdown",
   "metadata": {},
   "source": [
    "# Вопросы, которые я плохо проработал:\n",
    "\n",
    "* Непрерывый случай AUC-ROC\n",
    "* Cohen's kappa https://stats.stackexchange.com/questions/82162/cohens-kappa-in-plain-english\n",
    "* Неранговый AUC-ROC (количественный). Кажется, что в AUC-ROC логично ввести расстояние между рангами. В таком случае, быть может, мы сможем давать оценки, которые больше приближены к реальности в тех или иных случаях\n",
    "* Многомерный AUC-ROC http://citeseerx.ist.psu.edu/viewdoc/download?doi=10.1.1.98.4088&rep=rep1&type=pdf или one vs all\n",
    "* Коэффициент Мэтьюса https://ru.coursera.org/lecture/stats-for-data-analysis/korrieliatsiia-met-iusa-i-koeffitsiient-kramiera-prX3S\n",
    "\n",
    "# Источники:\n",
    "\n",
    "* https://github.com/esokolov/ml-course-msu/blob/master/ML15/lecture-notes/Sem05_metrics.pdf\n",
    "* https://dyakonov.org/2015/12/15/%D0%B7%D0%BD%D0%B0%D0%BA%D0%BE%D0%BC%D1%8C%D1%82%D0%B5%D1%81%D1%8C-%D0%B4%D0%B6%D0%B8%D0%BD%D0%B8/\n",
    "* https://ld86.github.io/ml-slides/unbalanced.html#/32\n",
    "* https://habr.com/post/228963/\n",
    "* https://habr.com/company/ods/blog/350440/\n",
    "* http://www.machinelearning.ru/wiki/images/4/4b/Kitov-ML-eng-06-Classifier_evaluation.pdf\n",
    "* http://datareview.info/article/luchshaya-metrika-dlya-ocenki-tochnosti-klassifikacionnyx-modelej/\n",
    "* https://docs.google.com/forms/d/e/1FAIpQLSfrZOU9TaDWIvxBabf8saK-unmijfOHwkANpARNCrVQ-g3KyQ/viewform\n",
    "* https://ru.wikipedia.org/wiki/ROC-%D0%BA%D1%80%D0%B8%D0%B2%D0%B0%D1%8F\n",
    "* https://habr.com/company/ods/blog/328372/\n",
    "* http://ttic.uchicago.edu/~meshi/papers/structAUC_aistats14.pdf\n",
    "* https://dyakonov.org/2017/07/28/auc-roc-%D0%BF%D0%BB%D0%BE%D1%89%D0%B0%D0%B4%D1%8C-%D0%BF%D0%BE%D0%B4-%D0%BA%D1%80%D0%B8%D0%B2%D0%BE%D0%B9-%D0%BE%D1%88%D0%B8%D0%B1%D0%BE%D0%BA/\n",
    "* https://github.com/Dyakonov/PZAD/blob/master/PZAD2018_05_minfunc_08.pdf\n",
    "* https://github.com/Dyakonov/PZAD/blob/master/PZAD2018_04_errors_22.pdf\n",
    "* https://www.twirpx.com/file/283458/"
   ]
  }
 ],
 "metadata": {
  "kernelspec": {
   "display_name": "Python 3",
   "language": "python",
   "name": "python3"
  },
  "language_info": {
   "codemirror_mode": {
    "name": "ipython",
    "version": 3
   },
   "file_extension": ".py",
   "mimetype": "text/x-python",
   "name": "python",
   "nbconvert_exporter": "python",
   "pygments_lexer": "ipython3",
   "version": "3.8.5"
  }
 },
 "nbformat": 4,
 "nbformat_minor": 4
}
