{
 "cells": [
  {
   "cell_type": "markdown",
   "metadata": {},
   "source": [
    "Это очень простой ноутбук в где мы посмотрим на базовые метрики для задачь классификации. <br>\n",
    "Для простоты понимания задачи представим что у нас есть ограниченный набор патронов и мы хотим сбить как можно больше <strong>правильных мишеней</strong>. <br> \n",
    "При этом у нас есть несколько стрелков и надо выбрать лучшего:\n",
    "- стрелок не тратит патроны просто так\n",
    "- не сбивает те шары которые не нужно\n",
    "- сбивает как можно больше правильных шаров\n",
    "\n",
    "<img src=\"./sources/shooter.png\">\n",
    "\n",
    "И что бы понять кто у нас тут самый главный стеролк мы попробуем посчитать кучу метрик."
   ]
  },
  {
   "cell_type": "code",
   "execution_count": 191,
   "metadata": {},
   "outputs": [
    {
     "name": "stdout",
     "output_type": "stream",
     "text": [
      "[0 0 0 0 0 0 0 0 0 0 0 0 0 0 0 0 0 0 0 0] мишени\n",
      "[1 0 0 1 0 0 1 1 1 0 0 1 0 0 1 0 0 0 0 0] стеролок один - кажется стреляет случайно\n",
      "[0 0 0 0 0 0 0 0 0 0 1 0 0 0 0 0 0 0 1 0] стеролок два - экономит патроны\n",
      "[1 1 1 1 1 1 0 1 1 1 0 0 1 1 1 1 1 1 0 1] стеролок три - стреляет по всем\n",
      "[0 0 0 0 0 0 0 0 0 0 0 0 0 0 0 0 0 0 0 0] стеролок четыре - кажется тоже экономит\n"
     ]
    }
   ],
   "source": [
    "import numpy as np\n",
    "\n",
    "size=1700\n",
    "np.random.seed(17)\n",
    "targets = np.random.choice(2, size=size,p=[0.9,0.1])\n",
    "shooter_one = np.random.choice(2,size=size)\n",
    "p = (targets+0.45)*np.random.normal(loc=1,size=size)\n",
    "shooter_two = np.where(p>0.99,1,0)\n",
    "shooter_three = np.where(p<0.9,1,0)\n",
    "shooter_four  = np.random.choice(2, size=size,p=[0.96, 0.04])\n",
    "\n",
    "ex_size = 20\n",
    "\n",
    "titles = ['мишени',\n",
    "          'стеролок один - кажется стреляет случайно',\n",
    "          'стеролок два - экономит патроны',\n",
    "          'стеролок три - стреляет по всем',\n",
    "          'стеролок четыре - кажется тоже экономит']\n",
    "\n",
    "preds = [targets, shooter_one, shooter_two, shooter_three, shooter_four]\n",
    "\n",
    "for t, p in zip(titles, preds):\n",
    "    print(p[ex_size:ex_size*2],t)"
   ]
  },
  {
   "cell_type": "code",
   "execution_count": null,
   "metadata": {},
   "outputs": [],
   "source": []
  },
  {
   "cell_type": "markdown",
   "metadata": {},
   "source": [
    "Вдохновление черпаю тут\n",
    "\n",
    "https://rpubs.com/spitakiss/DATA621_HW2 <br>\n",
    "https://github.com/data-mining-in-action/DMIA_Base_2019_Autumn/blob/master/lecture05/L5_Metrics.pdf <br>\n",
    "https://en.wikipedia.org/wiki/Evaluation_of_binary_classifiers <br>"
   ]
  }
 ],
 "metadata": {
  "kernelspec": {
   "display_name": "Python 3",
   "language": "python",
   "name": "python3"
  },
  "language_info": {
   "codemirror_mode": {
    "name": "ipython",
    "version": 3
   },
   "file_extension": ".py",
   "mimetype": "text/x-python",
   "name": "python",
   "nbconvert_exporter": "python",
   "pygments_lexer": "ipython3",
   "version": "3.8.5"
  }
 },
 "nbformat": 4,
 "nbformat_minor": 4
}
